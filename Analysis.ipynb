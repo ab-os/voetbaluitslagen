{
 "cells": [
  {
   "cell_type": "markdown",
   "metadata": {},
   "source": [
    "# Analysis\n",
    "Weigh the odds against the predictions and make your bet!\n",
    "\n",
    "The selected bets are stored in `./Book.csv`.\n",
    "\n",
    "Remember to fill in the actualy results of your bet in the `Book` after the match."
   ]
  },
  {
   "cell_type": "code",
   "execution_count": null,
   "metadata": {},
   "outputs": [],
   "source": [
    "import pandas as pd"
   ]
  },
  {
   "cell_type": "markdown",
   "metadata": {},
   "source": [
    "## Read the odds and predictions files"
   ]
  },
  {
   "cell_type": "code",
   "execution_count": null,
   "metadata": {},
   "outputs": [],
   "source": [
    "# odds\n",
    "dfOdds = pd.read_csv('./data/This_months_odds.csv')\n",
    "print(dfOdds.shape)\n",
    "display(dfOdds.head())\n",
    "\n",
    "# predictions\n",
    "dfPreds = pd.read_csv('./data/This_months_predictions.csv')\n",
    "print(dfPreds.shape)\n",
    "dfPreds.head()"
   ]
  },
  {
   "cell_type": "markdown",
   "metadata": {},
   "source": [
    "## Unpivot to go from matches to bets\n",
    "So each row in the table corresponds to 1 possible bet (home win, away win or tie)."
   ]
  },
  {
   "cell_type": "code",
   "execution_count": null,
   "metadata": {},
   "outputs": [],
   "source": [
    "# unpivot the odds columns\n",
    "dfOdds = dfOdds.melt(id_vars=['league', 'home_team', 'away_team'])\n",
    "\n",
    "# strip \"odd_\" from the bet outcome\n",
    "dfOdds.variable = dfOdds.variable.str.replace('odd_', '')\n",
    "\n",
    "# rename the column we got from the unpivot (melt)\n",
    "dfOdds.rename(columns={'variable': 'outcome', 'value': 'odd'}, inplace=True)\n",
    "\n",
    "# show\n",
    "print(dfOdds.shape)\n",
    "dfOdds.head()"
   ]
  },
  {
   "cell_type": "code",
   "execution_count": null,
   "metadata": {},
   "outputs": [],
   "source": [
    "# unpivot the prediction columns\n",
    "dfPreds = dfPreds.melt(id_vars=['date', 'league', 'home_team', 'away_team'])\n",
    "dfPreds\n",
    "\n",
    "# strip \"prob_\" from the bet outcome\n",
    "dfPreds.variable = dfPreds.variable.str.replace('prob_', '')\n",
    "\n",
    "# rename the column we got from the unpivot (melt)\n",
    "dfPreds.rename(columns={'variable': 'outcome', 'value': 'prob'}, inplace=True)\n",
    "\n",
    "# show\n",
    "print(dfPreds.shape)\n",
    "dfPreds.head()"
   ]
  },
  {
   "cell_type": "markdown",
   "metadata": {},
   "source": [
    "## Do some data mapping to align both tables"
   ]
  },
  {
   "cell_type": "code",
   "execution_count": null,
   "metadata": {},
   "outputs": [],
   "source": [
    "# map the league names to match the odds\n",
    "leaguesMap = {'french ligue 1': 'ligue_1',\n",
    "              'german bundesliga': 'bundesliga',\n",
    "              'dutch eredivisie': 'eredivisie',\n",
    "              'italy serie a': 'serie_a',\n",
    "              'spanish primera division': 'la_liga',\n",
    "              'barclays premier league': 'premier_league'}\n",
    "dfPreds['league'] = dfPreds.league.replace(leaguesMap)"
   ]
  },
  {
   "cell_type": "code",
   "execution_count": null,
   "metadata": {
    "scrolled": true
   },
   "outputs": [],
   "source": [
    "# check if team names differ from odds / preds\n",
    "# all team names from odds (filter 1 league)\n",
    "filt = dfOdds.league == 'ligue_1'\n",
    "teamsFromOdds = set(dfOdds[filt].home_team).union(set(dfOdds[filt].away_team))\n",
    "\n",
    "# all teams names from predictions (filter 1 league)\n",
    "filt = dfPreds.league == 'ligue_1'\n",
    "teamsFromPreds = set(dfPreds[filt].home_team).union(set(dfPreds[filt].away_team))\n",
    "\n",
    "# find set difference\n",
    "teamsFromOdds.symmetric_difference(teamsFromPreds)"
   ]
  },
  {
   "cell_type": "code",
   "execution_count": null,
   "metadata": {},
   "outputs": [],
   "source": [
    "# map the team names to match the odds\n",
    "teamsMap = { \n",
    "    # NL\n",
    "    'emmen': 'fc emmen',\n",
    "    'nac': 'nac breda',\n",
    "    'heerenveen': 'sc heerenveen',\n",
    "    'excelsior': 'excelsior rotterdam',\n",
    "    'psv': 'psv eindhoven',\n",
    "    'az': 'az alkmaar',\n",
    "    'heracles': 'heracles almelo',\n",
    "    # ES\n",
    "    'athletic bilbao': 'athletic club bilbao',\n",
    "    'sevilla fc': 'sevilla',\n",
    "    'real valladolid': 'valladolid',\n",
    "    'sd huesca': 'huesca',\n",
    "    'barcelona': 'fc barcelona',\n",
    "    # DE\n",
    "    'mainz': 'mainz 05',\n",
    "    'tsg hoffenheim': 'hoffenheim',\n",
    "    'fc augsburg': 'augsburg',\n",
    "    'bayern munich': 'bayern munchen',\n",
    "    # EN\n",
    "    'afc bournemouth': 'bournemouth',\n",
    "    'west ham united': 'west ham',\n",
    "    'tottenham hotspur': 'tottenham',\n",
    "    'brighton and hove albion': 'brighton & hove albion',\n",
    "    'newcastle': 'newcastle united',\n",
    "    'wolverhampton': 'wolverhampton wanderers',\n",
    "    # IT\n",
    "    'as roma': 'roma',\n",
    "    'internazionale': 'inter',\n",
    "    # FR\n",
    "    'paris saint-germain': 'paris sg',\n",
    "    'st etienne': 'saint-etienne',\n",
    "    'dijon fco': 'dijon',\n",
    "    'nimes': 'nimes olympique',\n",
    "    'stade rennes': 'rennes',\n",
    "    'as monaco': 'monaco'\n",
    "}\n",
    "dfPreds['home_team'] = dfPreds.home_team.replace(teamsMap)\n",
    "dfPreds['away_team'] = dfPreds.away_team.replace(teamsMap)"
   ]
  },
  {
   "cell_type": "code",
   "execution_count": null,
   "metadata": {
    "scrolled": true
   },
   "outputs": [],
   "source": [
    "# try to merge on [league], [home_team] and [away_team]\n",
    "dfJoin = dfOdds.merge(dfPreds, how='left', indicator=True,\n",
    "                      on=['league', 'home_team', 'away_team', 'outcome']\n",
    "                     )\n",
    "\n",
    "# check for mismatches - result should be empty data frame\n",
    "display(dfJoin[dfJoin['_merge'] == 'left_only'])\n",
    "\n",
    "# and then drop _merge to continue\n",
    "dfJoin.drop(columns=['_merge'], inplace=True)"
   ]
  },
  {
   "cell_type": "markdown",
   "metadata": {},
   "source": [
    "## Calculate expectation values and select bets\n",
    "Expectation value = odd * probability\n",
    "\n",
    "Select bets with `expect` > 1.15"
   ]
  },
  {
   "cell_type": "code",
   "execution_count": null,
   "metadata": {},
   "outputs": [],
   "source": [
    "# calculate the expectation value for each possible bet\n",
    "dfJoin['expect'] = dfJoin.odd * dfJoin.prob\n",
    "print(dfJoin.shape)"
   ]
  },
  {
   "cell_type": "code",
   "execution_count": null,
   "metadata": {
    "scrolled": false
   },
   "outputs": [],
   "source": [
    "# select bets higher then the threshold\n",
    "dfBets = dfJoin[dfJoin.expect > 1.15].copy()\n",
    "\n",
    "# sort and set a fixed column order\n",
    "columnOrder = ['date', 'league', 'home_team', 'away_team', 'outcome', 'odd', 'prob', 'expect']\n",
    "dfBets = dfBets.sort_values(by=['league', 'date'])[columnOrder]\n",
    "\n",
    "# show\n",
    "print(dfBets.shape)\n",
    "dfBets"
   ]
  },
  {
   "cell_type": "markdown",
   "metadata": {},
   "source": [
    "## Congratulations. You will be very rich, sir.\n",
    "Now save the precious analysis results."
   ]
  },
  {
   "cell_type": "code",
   "execution_count": null,
   "metadata": {},
   "outputs": [],
   "source": [
    "# first add the date of today\n",
    "from datetime import datetime\n",
    "now = datetime.now()\n",
    "dfBets['date_of_bet'] = '%s-%s-%s' % (now.day, now.month, now.year)\n",
    "\n",
    "# write to Book.csv - caution!\n",
    "#dfBets.to_csv('./Book.csv', index=False, float_format='%.3f')\n",
    "\n",
    "# append to Book.csv\n",
    "dfBets.to_csv('./Book.csv', index=False, float_format='%.3f', mode='a', header=False)"
   ]
  }
 ],
 "metadata": {
  "kernelspec": {
   "display_name": "Python 3",
   "language": "python",
   "name": "python3"
  },
  "language_info": {
   "codemirror_mode": {
    "name": "ipython",
    "version": 3
   },
   "file_extension": ".py",
   "mimetype": "text/x-python",
   "name": "python",
   "nbconvert_exporter": "python",
   "pygments_lexer": "ipython3",
   "version": "3.7.0"
  }
 },
 "nbformat": 4,
 "nbformat_minor": 2
}
