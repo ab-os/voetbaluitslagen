{
 "cells": [
  {
   "cell_type": "markdown",
   "metadata": {},
   "source": [
    "# Get the predictions\n",
    "Website: https://projects.fivethirtyeight.com/soccer-predictions/  \n",
    "Data source (git): https://github.com/fivethirtyeight/data/tree/master/soccer-spi/\n",
    "\n",
    "Gets predictions of all leagues (my selection) for the matches of today and the next 30 days.\n",
    "\n",
    "Stores them in `./data/This_months_predictions.csv`."
   ]
  },
  {
   "cell_type": "code",
   "execution_count": null,
   "metadata": {},
   "outputs": [],
   "source": [
    "import pandas as pd\n",
    "from datetime import date, timedelta\n",
    "\n",
    "# show all columns\n",
    "pd.options.display.max_columns = 0"
   ]
  },
  {
   "cell_type": "code",
   "execution_count": null,
   "metadata": {},
   "outputs": [],
   "source": [
    "# read their entire CSV\n",
    "df = pd.read_csv('https://projects.fivethirtyeight.com/soccer-api/club/spi_matches.csv', parse_dates=[0])\n",
    "\n",
    "# transform text fields to lowercase\n",
    "df.league = df.league.str.lower()\n",
    "df.team1 = df.team1.str.lower()\n",
    "df.team2 = df.team2.str.lower()\n",
    "\n",
    "# show\n",
    "print(df.shape)\n",
    "df.head()"
   ]
  },
  {
   "cell_type": "code",
   "execution_count": null,
   "metadata": {},
   "outputs": [],
   "source": [
    "# use only some leagues\n",
    "leagues = pd.DataFrame({'league_id': [1849, 1843, 1845, 1854, 1869, 2411]})\n",
    "\n",
    "# append league names\n",
    "leagues = leagues.merge(df[['league_id', 'league']], on='league_id', how='left').drop_duplicates().reset_index(drop=True)\n",
    "\n",
    "# show\n",
    "leagues"
   ]
  },
  {
   "cell_type": "code",
   "execution_count": null,
   "metadata": {},
   "outputs": [],
   "source": [
    "# filter only these leagues\n",
    "df = df[df.league_id.isin(leagues.league_id)]\n",
    "print(df.shape)"
   ]
  },
  {
   "cell_type": "code",
   "execution_count": null,
   "metadata": {},
   "outputs": [],
   "source": [
    "# filter matches from today up to 30 days from now\n",
    "today = date.today()\n",
    "delta = timedelta(30)\n",
    "print(today, ':', today+delta)\n",
    "df = df[(df.date.dt.date >= today) & (df.date.dt.date <= today+delta)]\n",
    "print(df.shape)"
   ]
  },
  {
   "cell_type": "code",
   "execution_count": null,
   "metadata": {},
   "outputs": [],
   "source": [
    "# sort by league_id and date\n",
    "df = df.sort_values(by=['league_id', 'date'])"
   ]
  },
  {
   "cell_type": "code",
   "execution_count": null,
   "metadata": {},
   "outputs": [],
   "source": [
    "# show\n",
    "df.head()"
   ]
  },
  {
   "cell_type": "code",
   "execution_count": null,
   "metadata": {
    "scrolled": true
   },
   "outputs": [],
   "source": [
    "# save to CSV\n",
    "df.to_csv('./data/This_months_predictions.csv', index=False)"
   ]
  }
 ],
 "metadata": {
  "kernelspec": {
   "display_name": "Python 3",
   "language": "python",
   "name": "python3"
  },
  "language_info": {
   "codemirror_mode": {
    "name": "ipython",
    "version": 3
   },
   "file_extension": ".py",
   "mimetype": "text/x-python",
   "name": "python",
   "nbconvert_exporter": "python",
   "pygments_lexer": "ipython3",
   "version": "3.7.0"
  }
 },
 "nbformat": 4,
 "nbformat_minor": 2
}
