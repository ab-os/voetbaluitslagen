{
 "cells": [
  {
   "cell_type": "markdown",
   "metadata": {},
   "source": [
    "# Scraper\n",
    "Scrapes odds from Unibet, predictions from fivethirtyeight and shows you the best bets.\n",
    "\n",
    "Start by starting the browser. Then follow the cells one time to click the cookie-bar."
   ]
  },
  {
   "cell_type": "code",
   "execution_count": null,
   "metadata": {},
   "outputs": [],
   "source": [
    "# Start our headless (no GUI) browser - Run this only 1 time\n",
    "from selenium import webdriver\n",
    "browser = webdriver.Firefox()"
   ]
  },
  {
   "cell_type": "code",
   "execution_count": null,
   "metadata": {},
   "outputs": [],
   "source": [
    "# Quit the browser - Run this only when you're done\n",
    "browser.quit()"
   ]
  },
  {
   "cell_type": "markdown",
   "metadata": {},
   "source": [
    "## `Run All Below` cells from here\n",
    "Of course set the league you want to scrape first."
   ]
  },
  {
   "cell_type": "code",
   "execution_count": null,
   "metadata": {},
   "outputs": [],
   "source": [
    "# choose a league (0-5)\n",
    "currentLeague = 4"
   ]
  },
  {
   "cell_type": "code",
   "execution_count": null,
   "metadata": {},
   "outputs": [],
   "source": [
    "# create the url matrix\n",
    "import pandas as pd\n",
    "urlUnibet = ['https://www.unibet.eu/betting#filter/football/netherlands/eredivisie',\n",
    "              'https://www.unibet.eu/betting#filter/football/spain/la_liga',\n",
    "              'https://www.unibet.eu/betting#filter/football/germany/bundesliga',\n",
    "              'https://www.unibet.eu/betting#filter/football/england/premier_league',\n",
    "              'https://www.unibet.eu/betting#filter/football/france/ligue_1',\n",
    "              'https://www.unibet.eu/betting#filter/football/italy/serie_a']\n",
    "url538 = ['https://projects.fivethirtyeight.com/soccer-predictions/eredivisie/',\n",
    "           'https://projects.fivethirtyeight.com/soccer-predictions/la-liga/',\n",
    "           'https://projects.fivethirtyeight.com/soccer-predictions/bundesliga/',\n",
    "           'https://projects.fivethirtyeight.com/soccer-predictions/premier-league/',\n",
    "           'https://projects.fivethirtyeight.com/soccer-predictions/ligue-1/',\n",
    "           'https://projects.fivethirtyeight.com/soccer-predictions/serie-a/']\n",
    "dfUrl = pd.DataFrame(data={'urlUnibet': urlUnibet, 'url538': url538})\n",
    "#dfUrl"
   ]
  },
  {
   "cell_type": "markdown",
   "metadata": {},
   "source": [
    "## Odds from unibet"
   ]
  },
  {
   "cell_type": "code",
   "execution_count": null,
   "metadata": {},
   "outputs": [],
   "source": [
    "import numpy as np\n",
    "import re\n",
    "from selenium import webdriver\n",
    "from selenium.webdriver.common.by import By\n",
    "from selenium.webdriver.support.ui import WebDriverWait\n",
    "from selenium.webdriver.support import expected_conditions as EC\n",
    "from selenium.common.exceptions import TimeoutException\n",
    "from bs4 import BeautifulSoup\n",
    "from time import sleep"
   ]
  },
  {
   "cell_type": "code",
   "execution_count": null,
   "metadata": {},
   "outputs": [],
   "source": [
    "# Go to the URL\n",
    "url = dfUrl.loc[currentLeague, 'urlUnibet']\n",
    "print('Going to:', url)\n",
    "browser.get(url)"
   ]
  },
  {
   "cell_type": "code",
   "execution_count": null,
   "metadata": {},
   "outputs": [],
   "source": [
    "# Wait until the accept-cookies button is present\n",
    "try:\n",
    "    element = WebDriverWait(browser, 10).until(\n",
    "        EC.element_to_be_clickable((By.ID, \"CybotCookiebotDialogBodyButtonAccept\"))\n",
    "    )\n",
    "\n",
    "    # When its present, let's wait another sec\n",
    "    sleep(1)\n",
    "\n",
    "    # Click on it\n",
    "    element.click()\n",
    "except TimeoutException:\n",
    "    # Not found, but maybe already clicked\n",
    "    pass\n",
    "finally:\n",
    "    # Wait until the cookie bar is gone\n",
    "    WebDriverWait(browser, 10).until( EC.invisibility_of_element_located((By.ID, \"CybotCookiebotDialogBodyButtons\")))\n",
    "    \n",
    "    # Just to be sure\n",
    "    sleep(1)"
   ]
  },
  {
   "cell_type": "code",
   "execution_count": null,
   "metadata": {},
   "outputs": [],
   "source": [
    "# Wait for a dropdown bar\n",
    "WebDriverWait(browser, 10).until( EC.presence_of_all_elements_located((By.CLASS_NAME, \"KambiBC-collapsible-container\")) )\n",
    "\n",
    "# No hurry please\n",
    "sleep(np.pi)\n",
    "\n",
    "# Find the dropdown bars, NOT the already expanded one\n",
    "dropdowns = browser.find_elements_by_css_selector(\".KambiBC-event-groups .KambiBC-collapsible-container:not(.KambiBC-expanded)\")\n",
    "\n",
    "# Click on them\n",
    "for dropdown in dropdowns:\n",
    "    dropdown.click()\n",
    "    sleep(np.pi)"
   ]
  },
  {
   "cell_type": "code",
   "execution_count": null,
   "metadata": {},
   "outputs": [],
   "source": [
    "# Now get the beautiful source code\n",
    "soup = BeautifulSoup(browser.page_source, 'html5lib')\n",
    "\n",
    "# Just wait some more maybe\n",
    "sleep(np.sqrt(np.exp(1)))"
   ]
  },
  {
   "cell_type": "code",
   "execution_count": null,
   "metadata": {},
   "outputs": [],
   "source": [
    "# search for matches in the soup\n",
    "matches = soup.find(class_=\"KambiBC-event-groups\").find_all(\"li\", class_=\"KambiBC-event-item\")\n",
    "\n",
    "# print amount found. Also remember this amount for getting the same amout from 538\n",
    "numberOfMatches = len(matches)\n",
    "print(\"Number of matches found: \", numberOfMatches)"
   ]
  },
  {
   "cell_type": "code",
   "execution_count": null,
   "metadata": {},
   "outputs": [],
   "source": [
    "# Create empty list\n",
    "jobs = []\n",
    "\n",
    "for match in matches:\n",
    "    # Create empty dictionary\n",
    "    job = {}\n",
    "    \n",
    "    # Find info on the page\n",
    "    #job[\"date\"] = match.find(class_=\"KambiBC-event-item__start-time--date\").text # <- Doesnt work..?\n",
    "    teams = match.find_all(class_=\"KambiBC-event-participants__name\")\n",
    "    job[\"home_team\"] = teams[0].text\n",
    "    job[\"away_team\"] = teams[1].text\n",
    "    odds = match.find_all(class_=\"KambiBC-mod-outcome__odds\")\n",
    "    job[\"odd_home_win\"] = odds[0].text\n",
    "    job[\"odd_tie\"] = odds[1].text\n",
    "    job[\"odd_away_win\"] = odds[2].text\n",
    "    \n",
    "    # Add to the list\n",
    "    jobs.append(job)"
   ]
  },
  {
   "cell_type": "code",
   "execution_count": null,
   "metadata": {},
   "outputs": [],
   "source": [
    "# Make a data frame\n",
    "dfOdds = pd.DataFrame(jobs)\n",
    "\n",
    "# Show\n",
    "#dfOdds"
   ]
  },
  {
   "cell_type": "markdown",
   "metadata": {},
   "source": [
    "### Data transformation"
   ]
  },
  {
   "cell_type": "code",
   "execution_count": null,
   "metadata": {
    "scrolled": true
   },
   "outputs": [],
   "source": [
    "# Change team names to lowercase\n",
    "dfOdds[\"home_team\"] = dfOdds[\"home_team\"].str.lower()\n",
    "dfOdds[\"away_team\"] = dfOdds[\"away_team\"].str.lower()\n",
    "\n",
    "# Remove all accents\n",
    "dfOdds[\"home_team\"] = dfOdds[\"home_team\"].str.normalize('NFKD').str.encode(encoding='ascii',errors='ignore').str.decode('utf-8')\n",
    "dfOdds[\"away_team\"] = dfOdds[\"away_team\"].str.normalize('NFKD').str.encode(encoding='ascii',errors='ignore').str.decode('utf-8')\n",
    "\n",
    "# Change the team names so that they match the ones in the 538 data frame\n",
    "changes_nl = {'fc groningen': 'groningen',\n",
    "              'fc twente': 'twente',\n",
    "              'sc heerenveen': 'heerenveen',\n",
    "              'fc utrecht': 'utrecht',\n",
    "              'fc emmen': 'emmen'}\n",
    "changes_de = {'bayer leverkusen': 'leverkusen',\n",
    "             'borussia monchengladbach': 'gladbach',\n",
    "             'vfl wolfsburg': 'wolfsburg',\n",
    "             'borussia dortmund': 'dortmund',\n",
    "             'augsburg': 'fc ausburg'}\n",
    "changes_es = {'deportiva las palmas': 'las palmas',\n",
    "             'fc barcelona': 'barcelona'}\n",
    "changes_en = {}\n",
    "changes_fr = {'saint-etienne': 'st etienne',\n",
    "             'paris sg': 'psg'}\n",
    "changes_it = {'hellas verona': 'verona'}\n",
    "changes = {**changes_nl, **changes_de, **changes_es, **changes_en, **changes_fr, **changes_it}\n",
    "for old,new in changes.items():\n",
    "    # Replace!\n",
    "    dfOdds[\"home_team\"] = dfOdds[\"home_team\"].str.replace(old, new)\n",
    "    dfOdds[\"away_team\"] = dfOdds[\"away_team\"].str.replace(old, new)\n",
    "\n",
    "# Make 3-letter code names\n",
    "dfOdds[\"home_code\"] = dfOdds[\"home_team\"].str[:3]\n",
    "dfOdds[\"away_code\"] = dfOdds[\"away_team\"].str[:3]\n",
    "\n",
    "# Convert to numbers\n",
    "dfOdds[\"odd_home_win\"] = pd.to_numeric(dfOdds[\"odd_home_win\"])\n",
    "dfOdds[\"odd_away_win\"] = pd.to_numeric(dfOdds[\"odd_away_win\"])\n",
    "dfOdds[\"odd_tie\"] = pd.to_numeric(dfOdds[\"odd_tie\"])\n",
    "\n",
    "# Show\n",
    "dfOdds"
   ]
  },
  {
   "cell_type": "markdown",
   "metadata": {},
   "source": [
    "## Predictions from five thirty eight"
   ]
  },
  {
   "cell_type": "code",
   "execution_count": null,
   "metadata": {},
   "outputs": [],
   "source": [
    "# so easy site, just use a basic scraper\n",
    "from lxml import html\n",
    "from lxml.cssselect import CSSSelector\n",
    "import requests\n",
    "import re\n",
    "import pandas as pd"
   ]
  },
  {
   "cell_type": "code",
   "execution_count": null,
   "metadata": {},
   "outputs": [],
   "source": [
    "# Go to the URL\n",
    "url = dfUrl.loc[currentLeague, 'url538']\n",
    "page = requests.get(url)\n",
    "\n",
    "# Get the source code\n",
    "tree = html.fromstring(page.content)"
   ]
  },
  {
   "cell_type": "code",
   "execution_count": null,
   "metadata": {},
   "outputs": [],
   "source": [
    "# it shows all matches of the season here. Let's stick to the same number as from Unibet\n",
    "matches = tree.cssselect('.games-container.upcoming .match-container')[:numberOfMatches]\n",
    "print(\"Number of matches found: \", len(matches))"
   ]
  },
  {
   "cell_type": "code",
   "execution_count": null,
   "metadata": {
    "scrolled": true
   },
   "outputs": [],
   "source": [
    "# prepare empty data frame\n",
    "cols = ['date', 'home_team', 'away_team', 'home_win', 'tie', 'away_win']\n",
    "df538 = pd.DataFrame(columns=cols)\n",
    "\n",
    "# fill data frame with match info\n",
    "for idx in range(len(matches)):\n",
    "    match = matches[idx]\n",
    "    \n",
    "    df538.at[idx, 'date'] = match.cssselect(\".date div\")[0].text\n",
    "    df538.at[idx, 'home_team'] = match.cssselect(\".match-top .name\")[0].text\n",
    "    df538.at[idx, 'home_win'] = match.cssselect(\".match-top .prob\")[0].text\n",
    "    df538.at[idx, 'tie'] = match.cssselect(\".tie-prob div\")[0].text\n",
    "    df538.at[idx, 'away_team'] = match.cssselect(\".match-bottom .name\")[0].text\n",
    "    df538.at[idx, 'away_win'] = match.cssselect(\".match-bottom .prob\")[0].text\n",
    "    \n",
    "#df538"
   ]
  },
  {
   "cell_type": "markdown",
   "metadata": {},
   "source": [
    "### Some data transformation"
   ]
  },
  {
   "cell_type": "code",
   "execution_count": null,
   "metadata": {
    "scrolled": true
   },
   "outputs": [],
   "source": [
    "# Turn percentages into floats\n",
    "df538['home_win'] = pd.to_numeric(df538['home_win'].str.replace(\"%\",\"\"))/100\n",
    "df538['tie'] = pd.to_numeric(df538['tie'].str.replace(\"%\",\"\"))/100\n",
    "df538['away_win'] = pd.to_numeric(df538['away_win'].str.replace(\"%\",\"\"))/100\n",
    "\n",
    "# Parse the date column (M/d to d/M)\n",
    "df538['date'] = df538['date'].apply(lambda d: '{l[1]}-{l[0]}'.format(l=d.split('/')))\n",
    "\n",
    "# Change team names to lowercase\n",
    "df538[\"home_team\"] = df538[\"home_team\"].str.lower()\n",
    "df538[\"away_team\"] = df538[\"away_team\"].str.lower()\n",
    "\n",
    "# Remove all accents\n",
    "df538[\"home_team\"] = df538[\"home_team\"].str.normalize('NFKD').str.encode(encoding='ascii',errors='ignore').str.decode('utf-8')\n",
    "df538[\"away_team\"] = df538[\"away_team\"].str.normalize('NFKD').str.encode(encoding='ascii',errors='ignore').str.decode('utf-8')\n",
    "\n",
    "# Make 3-letter code names\n",
    "df538[\"home_code\"] = df538[\"home_team\"].str[:3]\n",
    "df538[\"away_code\"] = df538[\"away_team\"].str[:3]\n",
    "\n",
    "# SHow\n",
    "df538"
   ]
  },
  {
   "cell_type": "markdown",
   "metadata": {},
   "source": [
    "# Merge\n",
    "First check if team names are missed in the data transformation.\n",
    "\n",
    "If the table below is empty, then it's alright."
   ]
  },
  {
   "cell_type": "code",
   "execution_count": null,
   "metadata": {},
   "outputs": [],
   "source": [
    "# check for missing matches for Unibet\n",
    "dfCheck = df538.merge(dfOdds, how=\"outer\", on=[\"home_code\", \"away_code\"], indicator=True)\n",
    "dfCheck[dfCheck._merge != 'both']"
   ]
  },
  {
   "cell_type": "code",
   "execution_count": null,
   "metadata": {},
   "outputs": [],
   "source": [
    "# Merge by 3-letter codes\n",
    "dfMerge = df538.merge(dfOdds, how=\"inner\", on=[\"home_code\", \"away_code\"], suffixes=('', '_uni'))\n",
    "\n",
    "# print\n",
    "print('Number of matches succesfully merged:', len(dfMerge))"
   ]
  },
  {
   "cell_type": "markdown",
   "metadata": {},
   "source": [
    "# Analyse"
   ]
  },
  {
   "cell_type": "code",
   "execution_count": null,
   "metadata": {},
   "outputs": [],
   "source": [
    "# Calculate the expected profits for win, tie and loss\n",
    "dfMerge[\"expect_home\"] = dfMerge[\"home_win\"] * dfMerge[\"odd_home_win\"]\n",
    "dfMerge[\"expect_away\"] = dfMerge[\"away_win\"] * dfMerge[\"odd_away_win\"]\n",
    "dfMerge[\"expect_tie\"] = dfMerge[\"tie\"] * dfMerge[\"odd_tie\"]\n",
    "\n",
    "# Set threshold\n",
    "threshold = 1.15\n",
    "\n",
    "# Show\n",
    "theGames = dfMerge.query('expect_home>@threshold or expect_away>@threshold or expect_tie>@threshold').copy()\n",
    "columns = [\"date\", \"home_team\", \"away_team\", \"expect_home\", \"expect_tie\", \"expect_away\"]\n",
    "display(theGames[columns])"
   ]
  },
  {
   "cell_type": "markdown",
   "metadata": {},
   "source": [
    "# Print to CSV"
   ]
  },
  {
   "cell_type": "code",
   "execution_count": null,
   "metadata": {},
   "outputs": [],
   "source": [
    "# first add the date of today\n",
    "from datetime import datetime\n",
    "now = datetime.now()\n",
    "theGames['date_of_bet'] = '%s-%s-%s' % (now.day, now.month, now.year)\n",
    "theGames['league'] = url.split('/')[-2]"
   ]
  },
  {
   "cell_type": "code",
   "execution_count": null,
   "metadata": {},
   "outputs": [],
   "source": [
    "# append to book.csv\n",
    "theGames = theGames[['date', 'home_team', 'away_team', 'league', 'home_win', 'tie', 'away_win',\\\n",
    "                     'odd_home_win', 'odd_tie', 'odd_away_win', 'expect_home', 'expect_tie', 'expect_away', 'date_of_bet']]\n",
    "\n",
    "#theGames.to_csv('./book.csv', index=False, sep=';', float_format='%.3f', decimal=',')\n",
    "#theGames.to_csv('./book.csv', index=False, sep=';', float_format='%.3f', decimal=',', mode='a', header=False)"
   ]
  }
 ],
 "metadata": {
  "kernelspec": {
   "display_name": "Python 3",
   "language": "python",
   "name": "python3"
  },
  "language_info": {
   "codemirror_mode": {
    "name": "ipython",
    "version": 3
   },
   "file_extension": ".py",
   "mimetype": "text/x-python",
   "name": "python",
   "nbconvert_exporter": "python",
   "pygments_lexer": "ipython3",
   "version": "3.7.0"
  }
 },
 "nbformat": 4,
 "nbformat_minor": 2
}
