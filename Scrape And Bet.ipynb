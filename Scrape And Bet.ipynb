{
 "cells": [
  {
   "cell_type": "markdown",
   "metadata": {},
   "source": [
    "# Scraper\n",
    "Scrapes odds from Unibet, predictions from fivethirtyeight and shows you the best bets.\n",
    "\n",
    "Start by starting the browser. Then follow the cells one time to click the cookie-bar."
   ]
  },
  {
   "cell_type": "code",
   "execution_count": 1,
   "metadata": {},
   "outputs": [],
   "source": [
    "# Start our headless (no GUI) browser - Run this only 1 time\n",
    "from selenium import webdriver\n",
    "browser = webdriver.Firefox()"
   ]
  },
  {
   "cell_type": "code",
   "execution_count": 131,
   "metadata": {},
   "outputs": [],
   "source": [
    "# Quit the browser - Run this only when you're done\n",
    "browser.quit()"
   ]
  },
  {
   "cell_type": "markdown",
   "metadata": {},
   "source": [
    "## `Run All Below` cells from here\n",
    "Of course set the league you want to scrape first."
   ]
  },
  {
   "cell_type": "code",
   "execution_count": 110,
   "metadata": {},
   "outputs": [],
   "source": [
    "# choose a league (0-5)\n",
    "currentLeague = 0"
   ]
  },
  {
   "cell_type": "code",
   "execution_count": 111,
   "metadata": {},
   "outputs": [],
   "source": [
    "# create the url matrix\n",
    "import pandas as pd\n",
    "urlUnibet = ['https://www.unibet.eu/betting#filter/football/netherlands/eredivisie',\n",
    "              'https://www.unibet.eu/betting#filter/football/spain/la_liga',\n",
    "              'https://www.unibet.eu/betting#filter/football/germany/bundesliga',\n",
    "              'https://www.unibet.eu/betting#filter/football/england/premier_league',\n",
    "              'https://www.unibet.eu/betting#filter/football/france/ligue_1',\n",
    "              'https://www.unibet.eu/betting#filter/football/italy/serie_a']\n",
    "url538 = ['https://projects.fivethirtyeight.com/soccer-predictions/eredivisie/',\n",
    "           'https://projects.fivethirtyeight.com/soccer-predictions/la-liga/',\n",
    "           'https://projects.fivethirtyeight.com/soccer-predictions/bundesliga/',\n",
    "           'https://projects.fivethirtyeight.com/soccer-predictions/premier-league/',\n",
    "           'https://projects.fivethirtyeight.com/soccer-predictions/ligue-1/',\n",
    "           'https://projects.fivethirtyeight.com/soccer-predictions/serie-a/']\n",
    "dfUrl = pd.DataFrame(data={'urlUnibet': urlUnibet, 'url538': url538})\n",
    "#dfUrl"
   ]
  },
  {
   "cell_type": "markdown",
   "metadata": {},
   "source": [
    "## Odds from unibet"
   ]
  },
  {
   "cell_type": "code",
   "execution_count": 112,
   "metadata": {},
   "outputs": [],
   "source": [
    "import numpy as np\n",
    "import re\n",
    "from selenium import webdriver\n",
    "from selenium.webdriver.common.by import By\n",
    "from selenium.webdriver.support.ui import WebDriverWait\n",
    "from selenium.webdriver.support import expected_conditions as EC\n",
    "from selenium.common.exceptions import TimeoutException\n",
    "from bs4 import BeautifulSoup\n",
    "from time import sleep"
   ]
  },
  {
   "cell_type": "code",
   "execution_count": 113,
   "metadata": {},
   "outputs": [
    {
     "name": "stdout",
     "output_type": "stream",
     "text": [
      "Going to: https://www.unibet.eu/betting#filter/football/italy/serie_a\n"
     ]
    }
   ],
   "source": [
    "# Go to the URL\n",
    "url = dfUrl.loc[currentLeague, 'urlUnibet']\n",
    "print('Going to:', url)\n",
    "browser.get(url)"
   ]
  },
  {
   "cell_type": "code",
   "execution_count": 114,
   "metadata": {},
   "outputs": [],
   "source": [
    "# Wait until the accept-cookies button is present\n",
    "try:\n",
    "    element = WebDriverWait(browser, 30).until(\n",
    "        EC.element_to_be_clickable((By.ID, \"CybotCookiebotDialogBodyButtonAccept\"))\n",
    "    )\n",
    "\n",
    "    # When its present, let's wait another sec\n",
    "    sleep(1)\n",
    "\n",
    "    # Click on it\n",
    "    element.click()\n",
    "except TimeoutException:\n",
    "    # Not found, but maybe already clicked\n",
    "    pass\n",
    "finally:\n",
    "    # Wait until the cookie bar is gone\n",
    "    WebDriverWait(browser, 10).until( EC.invisibility_of_element_located((By.ID, \"CybotCookiebotDialogBodyButtons\")))\n",
    "    \n",
    "    # Just to be sure\n",
    "    sleep(1)"
   ]
  },
  {
   "cell_type": "code",
   "execution_count": 115,
   "metadata": {},
   "outputs": [],
   "source": [
    "# Wait for a dropdown bar\n",
    "WebDriverWait(browser, 10).until( EC.presence_of_all_elements_located((By.CLASS_NAME, \"KambiBC-collapsible-container\")) )\n",
    "\n",
    "# No hurry please\n",
    "sleep(np.pi)\n",
    "\n",
    "# Find the dropdown bars, NOT the already expanded one\n",
    "dropdowns = browser.find_elements_by_css_selector(\".KambiBC-event-groups .KambiBC-collapsible-container:not(.KambiBC-expanded)\")\n",
    "\n",
    "# Click on them\n",
    "for dropdown in dropdowns:\n",
    "    dropdown.click()\n",
    "    sleep(np.pi)"
   ]
  },
  {
   "cell_type": "code",
   "execution_count": 116,
   "metadata": {},
   "outputs": [],
   "source": [
    "# Now get the beautiful source code\n",
    "soup = BeautifulSoup(browser.page_source, 'html5lib')\n",
    "\n",
    "# Just wait some more maybe\n",
    "sleep(np.sqrt(np.exp(1)))"
   ]
  },
  {
   "cell_type": "code",
   "execution_count": 117,
   "metadata": {},
   "outputs": [
    {
     "name": "stdout",
     "output_type": "stream",
     "text": [
      "Number of matches found:  12\n"
     ]
    }
   ],
   "source": [
    "# TODO: skip currently live matches\n",
    "\n",
    "# search for matches in the soup\n",
    "matches = soup.find(class_=\"KambiBC-event-groups\").find_all(\"li\", class_=\"KambiBC-event-item\")\n",
    "\n",
    "# print amount found. Also remember this amount for getting the same amout from 538\n",
    "numberOfMatches = len(matches)\n",
    "print(\"Number of matches found: \", numberOfMatches)"
   ]
  },
  {
   "cell_type": "code",
   "execution_count": 118,
   "metadata": {},
   "outputs": [],
   "source": [
    "# Create empty list\n",
    "jobs = []\n",
    "\n",
    "for match in matches:\n",
    "    # Create empty dictionary\n",
    "    job = {}\n",
    "    \n",
    "    # Find info on the page\n",
    "    #job[\"date\"] = match.find(class_=\"KambiBC-event-item__start-time--date\").text # <- Doesnt work..?\n",
    "    teams = match.find_all(class_=\"KambiBC-event-participants__name\")\n",
    "    job[\"home_team\"] = teams[0].text\n",
    "    job[\"away_team\"] = teams[1].text\n",
    "    odds = match.find_all(class_=\"KambiBC-mod-outcome__odds\")\n",
    "    job[\"odd_home_win\"] = odds[0].text\n",
    "    job[\"odd_tie\"] = odds[1].text\n",
    "    job[\"odd_away_win\"] = odds[2].text\n",
    "    \n",
    "    # Add to the list\n",
    "    jobs.append(job)"
   ]
  },
  {
   "cell_type": "code",
   "execution_count": 119,
   "metadata": {},
   "outputs": [],
   "source": [
    "# Make a data frame\n",
    "dfOdds = pd.DataFrame(jobs)\n",
    "\n",
    "# Show\n",
    "#dfOdds"
   ]
  },
  {
   "cell_type": "markdown",
   "metadata": {},
   "source": [
    "### Data transformation"
   ]
  },
  {
   "cell_type": "code",
   "execution_count": 120,
   "metadata": {
    "scrolled": true
   },
   "outputs": [
    {
     "data": {
      "text/html": [
       "<div>\n",
       "<style scoped>\n",
       "    .dataframe tbody tr th:only-of-type {\n",
       "        vertical-align: middle;\n",
       "    }\n",
       "\n",
       "    .dataframe tbody tr th {\n",
       "        vertical-align: top;\n",
       "    }\n",
       "\n",
       "    .dataframe thead th {\n",
       "        text-align: right;\n",
       "    }\n",
       "</style>\n",
       "<table border=\"1\" class=\"dataframe\">\n",
       "  <thead>\n",
       "    <tr style=\"text-align: right;\">\n",
       "      <th></th>\n",
       "      <th>away_team</th>\n",
       "      <th>home_team</th>\n",
       "      <th>odd_away_win</th>\n",
       "      <th>odd_home_win</th>\n",
       "      <th>odd_tie</th>\n",
       "      <th>home_code</th>\n",
       "      <th>away_code</th>\n",
       "    </tr>\n",
       "  </thead>\n",
       "  <tbody>\n",
       "    <tr>\n",
       "      <th>0</th>\n",
       "      <td>ac milan</td>\n",
       "      <td>inter</td>\n",
       "      <td>2.95</td>\n",
       "      <td>2.50</td>\n",
       "      <td>3.20</td>\n",
       "      <td>int</td>\n",
       "      <td>ac</td>\n",
       "    </tr>\n",
       "    <tr>\n",
       "      <th>1</th>\n",
       "      <td>sassuolo</td>\n",
       "      <td>sampdoria</td>\n",
       "      <td>3.40</td>\n",
       "      <td>2.14</td>\n",
       "      <td>3.45</td>\n",
       "      <td>sam</td>\n",
       "      <td>sas</td>\n",
       "    </tr>\n",
       "    <tr>\n",
       "      <th>2</th>\n",
       "      <td>parma</td>\n",
       "      <td>atalanta</td>\n",
       "      <td>6.75</td>\n",
       "      <td>1.48</td>\n",
       "      <td>4.10</td>\n",
       "      <td>ata</td>\n",
       "      <td>par</td>\n",
       "    </tr>\n",
       "    <tr>\n",
       "      <th>3</th>\n",
       "      <td>juventus</td>\n",
       "      <td>empoli</td>\n",
       "      <td>1.26</td>\n",
       "      <td>11.00</td>\n",
       "      <td>5.40</td>\n",
       "      <td>emp</td>\n",
       "      <td>juv</td>\n",
       "    </tr>\n",
       "    <tr>\n",
       "      <th>4</th>\n",
       "      <td>fiorentina</td>\n",
       "      <td>torino</td>\n",
       "      <td>2.80</td>\n",
       "      <td>2.55</td>\n",
       "      <td>3.30</td>\n",
       "      <td>tor</td>\n",
       "      <td>fio</td>\n",
       "    </tr>\n",
       "    <tr>\n",
       "      <th>5</th>\n",
       "      <td>bologna</td>\n",
       "      <td>sassuolo</td>\n",
       "      <td>4.40</td>\n",
       "      <td>1.85</td>\n",
       "      <td>3.40</td>\n",
       "      <td>sas</td>\n",
       "      <td>bol</td>\n",
       "    </tr>\n",
       "    <tr>\n",
       "      <th>6</th>\n",
       "      <td>chievo verona</td>\n",
       "      <td>cagliari</td>\n",
       "      <td>5.40</td>\n",
       "      <td>1.68</td>\n",
       "      <td>3.60</td>\n",
       "      <td>cag</td>\n",
       "      <td>chi</td>\n",
       "    </tr>\n",
       "    <tr>\n",
       "      <th>7</th>\n",
       "      <td>udinese</td>\n",
       "      <td>genoa</td>\n",
       "      <td>3.50</td>\n",
       "      <td>2.20</td>\n",
       "      <td>3.20</td>\n",
       "      <td>gen</td>\n",
       "      <td>udi</td>\n",
       "    </tr>\n",
       "    <tr>\n",
       "      <th>8</th>\n",
       "      <td>frosinone</td>\n",
       "      <td>spal</td>\n",
       "      <td>4.90</td>\n",
       "      <td>1.80</td>\n",
       "      <td>3.35</td>\n",
       "      <td>spa</td>\n",
       "      <td>fro</td>\n",
       "    </tr>\n",
       "    <tr>\n",
       "      <th>9</th>\n",
       "      <td>sampdoria</td>\n",
       "      <td>ac milan</td>\n",
       "      <td>6.25</td>\n",
       "      <td>1.50</td>\n",
       "      <td>4.25</td>\n",
       "      <td>ac</td>\n",
       "      <td>sam</td>\n",
       "    </tr>\n",
       "    <tr>\n",
       "      <th>10</th>\n",
       "      <td>roma</td>\n",
       "      <td>napoli</td>\n",
       "      <td>4.20</td>\n",
       "      <td>1.80</td>\n",
       "      <td>3.75</td>\n",
       "      <td>nap</td>\n",
       "      <td>rom</td>\n",
       "    </tr>\n",
       "    <tr>\n",
       "      <th>11</th>\n",
       "      <td>inter</td>\n",
       "      <td>lazio</td>\n",
       "      <td>2.85</td>\n",
       "      <td>2.40</td>\n",
       "      <td>3.40</td>\n",
       "      <td>laz</td>\n",
       "      <td>int</td>\n",
       "    </tr>\n",
       "  </tbody>\n",
       "</table>\n",
       "</div>"
      ],
      "text/plain": [
       "        away_team  home_team  odd_away_win  odd_home_win  odd_tie home_code  \\\n",
       "0        ac milan      inter          2.95          2.50     3.20       int   \n",
       "1        sassuolo  sampdoria          3.40          2.14     3.45       sam   \n",
       "2           parma   atalanta          6.75          1.48     4.10       ata   \n",
       "3        juventus     empoli          1.26         11.00     5.40       emp   \n",
       "4      fiorentina     torino          2.80          2.55     3.30       tor   \n",
       "5         bologna   sassuolo          4.40          1.85     3.40       sas   \n",
       "6   chievo verona   cagliari          5.40          1.68     3.60       cag   \n",
       "7         udinese      genoa          3.50          2.20     3.20       gen   \n",
       "8       frosinone       spal          4.90          1.80     3.35       spa   \n",
       "9       sampdoria   ac milan          6.25          1.50     4.25       ac    \n",
       "10           roma     napoli          4.20          1.80     3.75       nap   \n",
       "11          inter      lazio          2.85          2.40     3.40       laz   \n",
       "\n",
       "   away_code  \n",
       "0        ac   \n",
       "1        sas  \n",
       "2        par  \n",
       "3        juv  \n",
       "4        fio  \n",
       "5        bol  \n",
       "6        chi  \n",
       "7        udi  \n",
       "8        fro  \n",
       "9        sam  \n",
       "10       rom  \n",
       "11       int  "
      ]
     },
     "execution_count": 120,
     "metadata": {},
     "output_type": "execute_result"
    }
   ],
   "source": [
    "# Change team names to lowercase\n",
    "dfOdds[\"home_team\"] = dfOdds[\"home_team\"].str.lower()\n",
    "dfOdds[\"away_team\"] = dfOdds[\"away_team\"].str.lower()\n",
    "\n",
    "# Remove all accents\n",
    "dfOdds[\"home_team\"] = dfOdds[\"home_team\"].str.normalize('NFKD').str.encode(encoding='ascii',errors='ignore').str.decode('utf-8')\n",
    "dfOdds[\"away_team\"] = dfOdds[\"away_team\"].str.normalize('NFKD').str.encode(encoding='ascii',errors='ignore').str.decode('utf-8')\n",
    "\n",
    "# Change the team names so that they match the ones in the 538 data frame\n",
    "changes_nl = {'fc groningen': 'groningen',\n",
    "              'fc twente': 'twente',\n",
    "              'sc heerenveen': 'heerenveen',\n",
    "              'fc utrecht': 'utrecht',\n",
    "              'fc emmen': 'emmen'}\n",
    "changes_de = {'bayer leverkusen': 'leverkusen',\n",
    "             'borussia monchengladbach': 'gladbach',\n",
    "             'vfl wolfsburg': 'wolfsburg',\n",
    "             'borussia dortmund': 'dortmund',\n",
    "             'augsburg': 'fc ausburg'}\n",
    "changes_es = {'deportiva las palmas': 'las palmas',\n",
    "             'fc barcelona': 'barcelona'}\n",
    "changes_en = {}\n",
    "changes_fr = {'saint-etienne': 'st etienne',\n",
    "             'paris sg': 'psg'}\n",
    "changes_it = {'hellas verona': 'verona'}\n",
    "changes = {**changes_nl, **changes_de, **changes_es, **changes_en, **changes_fr, **changes_it}\n",
    "for old,new in changes.items():\n",
    "    # Replace!\n",
    "    dfOdds[\"home_team\"] = dfOdds[\"home_team\"].str.replace(old, new)\n",
    "    dfOdds[\"away_team\"] = dfOdds[\"away_team\"].str.replace(old, new)\n",
    "\n",
    "# Make 3-letter code names\n",
    "dfOdds[\"home_code\"] = dfOdds[\"home_team\"].str[:3]\n",
    "dfOdds[\"away_code\"] = dfOdds[\"away_team\"].str[:3]\n",
    "\n",
    "# Convert to numbers\n",
    "dfOdds[\"odd_home_win\"] = pd.to_numeric(dfOdds[\"odd_home_win\"])\n",
    "dfOdds[\"odd_away_win\"] = pd.to_numeric(dfOdds[\"odd_away_win\"])\n",
    "dfOdds[\"odd_tie\"] = pd.to_numeric(dfOdds[\"odd_tie\"])\n",
    "\n",
    "# Show\n",
    "dfOdds"
   ]
  },
  {
   "cell_type": "markdown",
   "metadata": {},
   "source": [
    "## Predictions from five thirty eight"
   ]
  },
  {
   "cell_type": "code",
   "execution_count": 121,
   "metadata": {},
   "outputs": [],
   "source": [
    "# so easy site, just use a basic scraper\n",
    "from lxml import html\n",
    "from lxml.cssselect import CSSSelector\n",
    "import requests\n",
    "import re\n",
    "import pandas as pd"
   ]
  },
  {
   "cell_type": "code",
   "execution_count": 122,
   "metadata": {},
   "outputs": [],
   "source": [
    "# Go to the URL\n",
    "url = dfUrl.loc[currentLeague, 'url538']\n",
    "page = requests.get(url)\n",
    "\n",
    "# Get the source code\n",
    "tree = html.fromstring(page.content)"
   ]
  },
  {
   "cell_type": "code",
   "execution_count": 123,
   "metadata": {},
   "outputs": [
    {
     "name": "stdout",
     "output_type": "stream",
     "text": [
      "Number of matches found:  12\n"
     ]
    }
   ],
   "source": [
    "# it shows all matches of the season here. Let's stick to the same number as from Unibet\n",
    "matches = tree.cssselect('.games-container.upcoming .match-container')[:numberOfMatches]\n",
    "print(\"Number of matches found: \", len(matches))"
   ]
  },
  {
   "cell_type": "code",
   "execution_count": 124,
   "metadata": {
    "scrolled": true
   },
   "outputs": [],
   "source": [
    "# prepare empty data frame\n",
    "cols = ['date', 'home_team', 'away_team', 'home_win', 'tie', 'away_win']\n",
    "df538 = pd.DataFrame(columns=cols)\n",
    "\n",
    "# fill data frame with match info\n",
    "for idx in range(len(matches)):\n",
    "    match = matches[idx]\n",
    "    \n",
    "    df538.at[idx, 'date'] = match.cssselect(\".date div\")[0].text\n",
    "    df538.at[idx, 'home_team'] = match.cssselect(\".match-top .name\")[0].text\n",
    "    df538.at[idx, 'home_win'] = match.cssselect(\".match-top .prob\")[0].text\n",
    "    df538.at[idx, 'tie'] = match.cssselect(\".tie-prob div\")[0].text\n",
    "    df538.at[idx, 'away_team'] = match.cssselect(\".match-bottom .name\")[0].text\n",
    "    df538.at[idx, 'away_win'] = match.cssselect(\".match-bottom .prob\")[0].text\n",
    "    \n",
    "#df538"
   ]
  },
  {
   "cell_type": "markdown",
   "metadata": {},
   "source": [
    "### Some data transformation"
   ]
  },
  {
   "cell_type": "code",
   "execution_count": 125,
   "metadata": {
    "scrolled": true
   },
   "outputs": [
    {
     "data": {
      "text/html": [
       "<div>\n",
       "<style scoped>\n",
       "    .dataframe tbody tr th:only-of-type {\n",
       "        vertical-align: middle;\n",
       "    }\n",
       "\n",
       "    .dataframe tbody tr th {\n",
       "        vertical-align: top;\n",
       "    }\n",
       "\n",
       "    .dataframe thead th {\n",
       "        text-align: right;\n",
       "    }\n",
       "</style>\n",
       "<table border=\"1\" class=\"dataframe\">\n",
       "  <thead>\n",
       "    <tr style=\"text-align: right;\">\n",
       "      <th></th>\n",
       "      <th>date</th>\n",
       "      <th>home_team</th>\n",
       "      <th>away_team</th>\n",
       "      <th>home_win</th>\n",
       "      <th>tie</th>\n",
       "      <th>away_win</th>\n",
       "      <th>home_code</th>\n",
       "      <th>away_code</th>\n",
       "    </tr>\n",
       "  </thead>\n",
       "  <tbody>\n",
       "    <tr>\n",
       "      <th>0</th>\n",
       "      <td>21-10</td>\n",
       "      <td>inter milan</td>\n",
       "      <td>ac milan</td>\n",
       "      <td>0.48</td>\n",
       "      <td>0.25</td>\n",
       "      <td>0.27</td>\n",
       "      <td>int</td>\n",
       "      <td>ac</td>\n",
       "    </tr>\n",
       "    <tr>\n",
       "      <th>1</th>\n",
       "      <td>22-10</td>\n",
       "      <td>sampdoria</td>\n",
       "      <td>sassuolo</td>\n",
       "      <td>0.46</td>\n",
       "      <td>0.26</td>\n",
       "      <td>0.28</td>\n",
       "      <td>sam</td>\n",
       "      <td>sas</td>\n",
       "    </tr>\n",
       "    <tr>\n",
       "      <th>2</th>\n",
       "      <td>27-10</td>\n",
       "      <td>atalanta</td>\n",
       "      <td>parma</td>\n",
       "      <td>0.69</td>\n",
       "      <td>0.20</td>\n",
       "      <td>0.11</td>\n",
       "      <td>ata</td>\n",
       "      <td>par</td>\n",
       "    </tr>\n",
       "    <tr>\n",
       "      <th>3</th>\n",
       "      <td>27-10</td>\n",
       "      <td>empoli</td>\n",
       "      <td>juventus</td>\n",
       "      <td>0.10</td>\n",
       "      <td>0.18</td>\n",
       "      <td>0.72</td>\n",
       "      <td>emp</td>\n",
       "      <td>juv</td>\n",
       "    </tr>\n",
       "    <tr>\n",
       "      <th>4</th>\n",
       "      <td>27-10</td>\n",
       "      <td>torino</td>\n",
       "      <td>fiorentina</td>\n",
       "      <td>0.36</td>\n",
       "      <td>0.29</td>\n",
       "      <td>0.35</td>\n",
       "      <td>tor</td>\n",
       "      <td>fio</td>\n",
       "    </tr>\n",
       "    <tr>\n",
       "      <th>5</th>\n",
       "      <td>28-10</td>\n",
       "      <td>sassuolo</td>\n",
       "      <td>bologna</td>\n",
       "      <td>0.51</td>\n",
       "      <td>0.27</td>\n",
       "      <td>0.22</td>\n",
       "      <td>sas</td>\n",
       "      <td>bol</td>\n",
       "    </tr>\n",
       "    <tr>\n",
       "      <th>6</th>\n",
       "      <td>28-10</td>\n",
       "      <td>cagliari</td>\n",
       "      <td>chievo</td>\n",
       "      <td>0.51</td>\n",
       "      <td>0.27</td>\n",
       "      <td>0.22</td>\n",
       "      <td>cag</td>\n",
       "      <td>chi</td>\n",
       "    </tr>\n",
       "    <tr>\n",
       "      <th>7</th>\n",
       "      <td>28-10</td>\n",
       "      <td>genoa</td>\n",
       "      <td>udinese</td>\n",
       "      <td>0.45</td>\n",
       "      <td>0.28</td>\n",
       "      <td>0.27</td>\n",
       "      <td>gen</td>\n",
       "      <td>udi</td>\n",
       "    </tr>\n",
       "    <tr>\n",
       "      <th>8</th>\n",
       "      <td>28-10</td>\n",
       "      <td>spal</td>\n",
       "      <td>frosinone</td>\n",
       "      <td>0.53</td>\n",
       "      <td>0.27</td>\n",
       "      <td>0.21</td>\n",
       "      <td>spa</td>\n",
       "      <td>fro</td>\n",
       "    </tr>\n",
       "    <tr>\n",
       "      <th>9</th>\n",
       "      <td>28-10</td>\n",
       "      <td>ac milan</td>\n",
       "      <td>sampdoria</td>\n",
       "      <td>0.59</td>\n",
       "      <td>0.23</td>\n",
       "      <td>0.18</td>\n",
       "      <td>ac</td>\n",
       "      <td>sam</td>\n",
       "    </tr>\n",
       "    <tr>\n",
       "      <th>10</th>\n",
       "      <td>28-10</td>\n",
       "      <td>napoli</td>\n",
       "      <td>roma</td>\n",
       "      <td>0.52</td>\n",
       "      <td>0.25</td>\n",
       "      <td>0.23</td>\n",
       "      <td>nap</td>\n",
       "      <td>rom</td>\n",
       "    </tr>\n",
       "    <tr>\n",
       "      <th>11</th>\n",
       "      <td>29-10</td>\n",
       "      <td>lazio</td>\n",
       "      <td>inter milan</td>\n",
       "      <td>0.40</td>\n",
       "      <td>0.26</td>\n",
       "      <td>0.34</td>\n",
       "      <td>laz</td>\n",
       "      <td>int</td>\n",
       "    </tr>\n",
       "  </tbody>\n",
       "</table>\n",
       "</div>"
      ],
      "text/plain": [
       "     date    home_team    away_team  home_win   tie  away_win home_code  \\\n",
       "0   21-10  inter milan     ac milan      0.48  0.25      0.27       int   \n",
       "1   22-10    sampdoria     sassuolo      0.46  0.26      0.28       sam   \n",
       "2   27-10     atalanta        parma      0.69  0.20      0.11       ata   \n",
       "3   27-10       empoli     juventus      0.10  0.18      0.72       emp   \n",
       "4   27-10       torino   fiorentina      0.36  0.29      0.35       tor   \n",
       "5   28-10     sassuolo      bologna      0.51  0.27      0.22       sas   \n",
       "6   28-10     cagliari       chievo      0.51  0.27      0.22       cag   \n",
       "7   28-10        genoa      udinese      0.45  0.28      0.27       gen   \n",
       "8   28-10         spal    frosinone      0.53  0.27      0.21       spa   \n",
       "9   28-10     ac milan    sampdoria      0.59  0.23      0.18       ac    \n",
       "10  28-10       napoli         roma      0.52  0.25      0.23       nap   \n",
       "11  29-10        lazio  inter milan      0.40  0.26      0.34       laz   \n",
       "\n",
       "   away_code  \n",
       "0        ac   \n",
       "1        sas  \n",
       "2        par  \n",
       "3        juv  \n",
       "4        fio  \n",
       "5        bol  \n",
       "6        chi  \n",
       "7        udi  \n",
       "8        fro  \n",
       "9        sam  \n",
       "10       rom  \n",
       "11       int  "
      ]
     },
     "execution_count": 125,
     "metadata": {},
     "output_type": "execute_result"
    }
   ],
   "source": [
    "# Turn percentages into floats\n",
    "df538['home_win'] = pd.to_numeric(df538['home_win'].str.replace(\"%\",\"\"))/100\n",
    "df538['tie'] = pd.to_numeric(df538['tie'].str.replace(\"%\",\"\"))/100\n",
    "df538['away_win'] = pd.to_numeric(df538['away_win'].str.replace(\"%\",\"\"))/100\n",
    "\n",
    "# Parse the date column (M/d to d/M)\n",
    "df538['date'] = df538['date'].apply(lambda d: '{l[1]}-{l[0]}'.format(l=d.split('/')))\n",
    "\n",
    "# Change team names to lowercase\n",
    "df538[\"home_team\"] = df538[\"home_team\"].str.lower()\n",
    "df538[\"away_team\"] = df538[\"away_team\"].str.lower()\n",
    "\n",
    "# Remove all accents\n",
    "df538[\"home_team\"] = df538[\"home_team\"].str.normalize('NFKD').str.encode(encoding='ascii',errors='ignore').str.decode('utf-8')\n",
    "df538[\"away_team\"] = df538[\"away_team\"].str.normalize('NFKD').str.encode(encoding='ascii',errors='ignore').str.decode('utf-8')\n",
    "\n",
    "# Make 3-letter code names\n",
    "df538[\"home_code\"] = df538[\"home_team\"].str[:3]\n",
    "df538[\"away_code\"] = df538[\"away_team\"].str[:3]\n",
    "\n",
    "# SHow\n",
    "df538"
   ]
  },
  {
   "cell_type": "markdown",
   "metadata": {},
   "source": [
    "# Merge\n",
    "First check if team names are missed in the data transformation.\n",
    "\n",
    "If the table below is empty, then it's alright."
   ]
  },
  {
   "cell_type": "code",
   "execution_count": 126,
   "metadata": {},
   "outputs": [
    {
     "data": {
      "text/html": [
       "<div>\n",
       "<style scoped>\n",
       "    .dataframe tbody tr th:only-of-type {\n",
       "        vertical-align: middle;\n",
       "    }\n",
       "\n",
       "    .dataframe tbody tr th {\n",
       "        vertical-align: top;\n",
       "    }\n",
       "\n",
       "    .dataframe thead th {\n",
       "        text-align: right;\n",
       "    }\n",
       "</style>\n",
       "<table border=\"1\" class=\"dataframe\">\n",
       "  <thead>\n",
       "    <tr style=\"text-align: right;\">\n",
       "      <th></th>\n",
       "      <th>date</th>\n",
       "      <th>home_team_x</th>\n",
       "      <th>away_team_x</th>\n",
       "      <th>home_win</th>\n",
       "      <th>tie</th>\n",
       "      <th>away_win</th>\n",
       "      <th>home_code</th>\n",
       "      <th>away_code</th>\n",
       "      <th>away_team_y</th>\n",
       "      <th>home_team_y</th>\n",
       "      <th>odd_away_win</th>\n",
       "      <th>odd_home_win</th>\n",
       "      <th>odd_tie</th>\n",
       "      <th>_merge</th>\n",
       "    </tr>\n",
       "  </thead>\n",
       "  <tbody>\n",
       "  </tbody>\n",
       "</table>\n",
       "</div>"
      ],
      "text/plain": [
       "Empty DataFrame\n",
       "Columns: [date, home_team_x, away_team_x, home_win, tie, away_win, home_code, away_code, away_team_y, home_team_y, odd_away_win, odd_home_win, odd_tie, _merge]\n",
       "Index: []"
      ]
     },
     "execution_count": 126,
     "metadata": {},
     "output_type": "execute_result"
    }
   ],
   "source": [
    "# check for missing matches for Unibet\n",
    "dfCheck = df538.merge(dfOdds, how=\"outer\", on=[\"home_code\", \"away_code\"], indicator=True)\n",
    "dfCheck[dfCheck._merge != 'both']"
   ]
  },
  {
   "cell_type": "code",
   "execution_count": 127,
   "metadata": {},
   "outputs": [
    {
     "name": "stdout",
     "output_type": "stream",
     "text": [
      "Number of matches succesfully merged: 12\n"
     ]
    }
   ],
   "source": [
    "# Merge by 3-letter codes\n",
    "dfMerge = df538.merge(dfOdds, how=\"inner\", on=[\"home_code\", \"away_code\"], suffixes=('', '_uni'))\n",
    "\n",
    "# print\n",
    "print('Number of matches succesfully merged:', len(dfMerge))"
   ]
  },
  {
   "cell_type": "markdown",
   "metadata": {},
   "source": [
    "# Analyse"
   ]
  },
  {
   "cell_type": "code",
   "execution_count": 128,
   "metadata": {},
   "outputs": [
    {
     "data": {
      "text/html": [
       "<div>\n",
       "<style scoped>\n",
       "    .dataframe tbody tr th:only-of-type {\n",
       "        vertical-align: middle;\n",
       "    }\n",
       "\n",
       "    .dataframe tbody tr th {\n",
       "        vertical-align: top;\n",
       "    }\n",
       "\n",
       "    .dataframe thead th {\n",
       "        text-align: right;\n",
       "    }\n",
       "</style>\n",
       "<table border=\"1\" class=\"dataframe\">\n",
       "  <thead>\n",
       "    <tr style=\"text-align: right;\">\n",
       "      <th></th>\n",
       "      <th>date</th>\n",
       "      <th>home_team</th>\n",
       "      <th>away_team</th>\n",
       "      <th>expect_home</th>\n",
       "      <th>expect_tie</th>\n",
       "      <th>expect_away</th>\n",
       "    </tr>\n",
       "  </thead>\n",
       "  <tbody>\n",
       "    <tr>\n",
       "      <th>0</th>\n",
       "      <td>21-10</td>\n",
       "      <td>inter milan</td>\n",
       "      <td>ac milan</td>\n",
       "      <td>1.2000</td>\n",
       "      <td>0.800</td>\n",
       "      <td>0.7965</td>\n",
       "    </tr>\n",
       "    <tr>\n",
       "      <th>6</th>\n",
       "      <td>28-10</td>\n",
       "      <td>cagliari</td>\n",
       "      <td>chievo</td>\n",
       "      <td>0.8568</td>\n",
       "      <td>0.972</td>\n",
       "      <td>1.1880</td>\n",
       "    </tr>\n",
       "  </tbody>\n",
       "</table>\n",
       "</div>"
      ],
      "text/plain": [
       "    date    home_team away_team  expect_home  expect_tie  expect_away\n",
       "0  21-10  inter milan  ac milan       1.2000       0.800       0.7965\n",
       "6  28-10     cagliari    chievo       0.8568       0.972       1.1880"
      ]
     },
     "metadata": {},
     "output_type": "display_data"
    }
   ],
   "source": [
    "# Calculate the expected profits for win, tie and loss\n",
    "dfMerge[\"expect_home\"] = dfMerge[\"home_win\"] * dfMerge[\"odd_home_win\"]\n",
    "dfMerge[\"expect_away\"] = dfMerge[\"away_win\"] * dfMerge[\"odd_away_win\"]\n",
    "dfMerge[\"expect_tie\"] = dfMerge[\"tie\"] * dfMerge[\"odd_tie\"]\n",
    "\n",
    "# Set threshold\n",
    "threshold = 1.15\n",
    "\n",
    "# Show\n",
    "theGames = dfMerge.query('expect_home>@threshold or expect_away>@threshold or expect_tie>@threshold').copy()\n",
    "columns = [\"date\", \"home_team\", \"away_team\", \"expect_home\", \"expect_tie\", \"expect_away\"]\n",
    "display(theGames[columns])"
   ]
  },
  {
   "cell_type": "markdown",
   "metadata": {},
   "source": [
    "# Print to CSV"
   ]
  },
  {
   "cell_type": "code",
   "execution_count": 129,
   "metadata": {},
   "outputs": [],
   "source": [
    "# first add the date of today\n",
    "from datetime import datetime\n",
    "now = datetime.now()\n",
    "theGames['date_of_bet'] = '%s-%s-%s' % (now.day, now.month, now.year)\n",
    "theGames['league'] = url.split('/')[-2]"
   ]
  },
  {
   "cell_type": "code",
   "execution_count": 130,
   "metadata": {},
   "outputs": [],
   "source": [
    "# append to book.csv\n",
    "theGames = theGames[['date', 'home_team', 'away_team', 'league', 'home_win', 'tie', 'away_win',\\\n",
    "                     'odd_home_win', 'odd_tie', 'odd_away_win', 'expect_home', 'expect_tie', 'expect_away', 'date_of_bet']]\n",
    "\n",
    "# to write, or not to write\n",
    "#theGames.to_csv('./book.csv', index=False, sep=';', float_format='%.3f', decimal=',')\n",
    "#theGames.to_csv('./book.csv', index=False, sep=';', float_format='%.3f', decimal=',', mode='a', header=False)"
   ]
  }
 ],
 "metadata": {
  "kernelspec": {
   "display_name": "Python 3",
   "language": "python",
   "name": "python3"
  },
  "language_info": {
   "codemirror_mode": {
    "name": "ipython",
    "version": 3
   },
   "file_extension": ".py",
   "mimetype": "text/x-python",
   "name": "python",
   "nbconvert_exporter": "python",
   "pygments_lexer": "ipython3",
   "version": "3.7.0"
  }
 },
 "nbformat": 4,
 "nbformat_minor": 2
}
