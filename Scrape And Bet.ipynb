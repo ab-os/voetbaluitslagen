{
 "cells": [
  {
   "cell_type": "markdown",
   "metadata": {},
   "source": [
    "# Scraper\n",
    "Scrapes odds from unibet, predictions from fivethirtyeight and shows you the best bets."
   ]
  },
  {
   "cell_type": "code",
   "execution_count": 38,
   "metadata": {},
   "outputs": [
    {
     "data": {
      "text/html": [
       "<div>\n",
       "<style scoped>\n",
       "    .dataframe tbody tr th:only-of-type {\n",
       "        vertical-align: middle;\n",
       "    }\n",
       "\n",
       "    .dataframe tbody tr th {\n",
       "        vertical-align: top;\n",
       "    }\n",
       "\n",
       "    .dataframe thead th {\n",
       "        text-align: right;\n",
       "    }\n",
       "</style>\n",
       "<table border=\"1\" class=\"dataframe\">\n",
       "  <thead>\n",
       "    <tr style=\"text-align: right;\">\n",
       "      <th></th>\n",
       "      <th>url538</th>\n",
       "      <th>urlUnibet</th>\n",
       "    </tr>\n",
       "  </thead>\n",
       "  <tbody>\n",
       "    <tr>\n",
       "      <th>0</th>\n",
       "      <td>https://projects.fivethirtyeight.com/soccer-pr...</td>\n",
       "      <td>https://www.unibet.eu/betting#filter/football/...</td>\n",
       "    </tr>\n",
       "    <tr>\n",
       "      <th>1</th>\n",
       "      <td>https://projects.fivethirtyeight.com/soccer-pr...</td>\n",
       "      <td>https://www.unibet.eu/betting#filter/football/...</td>\n",
       "    </tr>\n",
       "    <tr>\n",
       "      <th>2</th>\n",
       "      <td>https://projects.fivethirtyeight.com/soccer-pr...</td>\n",
       "      <td>https://www.unibet.eu/betting#filter/football/...</td>\n",
       "    </tr>\n",
       "    <tr>\n",
       "      <th>3</th>\n",
       "      <td>https://projects.fivethirtyeight.com/soccer-pr...</td>\n",
       "      <td>https://www.unibet.eu/betting#filter/football/...</td>\n",
       "    </tr>\n",
       "    <tr>\n",
       "      <th>4</th>\n",
       "      <td>https://projects.fivethirtyeight.com/soccer-pr...</td>\n",
       "      <td>https://www.unibet.eu/betting#filter/football/...</td>\n",
       "    </tr>\n",
       "    <tr>\n",
       "      <th>5</th>\n",
       "      <td>https://projects.fivethirtyeight.com/soccer-pr...</td>\n",
       "      <td>https://www.unibet.eu/betting#filter/football/...</td>\n",
       "    </tr>\n",
       "  </tbody>\n",
       "</table>\n",
       "</div>"
      ],
      "text/plain": [
       "                                              url538  \\\n",
       "0  https://projects.fivethirtyeight.com/soccer-pr...   \n",
       "1  https://projects.fivethirtyeight.com/soccer-pr...   \n",
       "2  https://projects.fivethirtyeight.com/soccer-pr...   \n",
       "3  https://projects.fivethirtyeight.com/soccer-pr...   \n",
       "4  https://projects.fivethirtyeight.com/soccer-pr...   \n",
       "5  https://projects.fivethirtyeight.com/soccer-pr...   \n",
       "\n",
       "                                           urlUnibet  \n",
       "0  https://www.unibet.eu/betting#filter/football/...  \n",
       "1  https://www.unibet.eu/betting#filter/football/...  \n",
       "2  https://www.unibet.eu/betting#filter/football/...  \n",
       "3  https://www.unibet.eu/betting#filter/football/...  \n",
       "4  https://www.unibet.eu/betting#filter/football/...  \n",
       "5  https://www.unibet.eu/betting#filter/football/...  "
      ]
     },
     "execution_count": 38,
     "metadata": {},
     "output_type": "execute_result"
    }
   ],
   "source": [
    "# choose a league (0-5)\n",
    "currentLeague = 1\n",
    "\n",
    "# create the url matrix\n",
    "import pandas as pd\n",
    "urlUnibet = ['https://www.unibet.eu/betting#filter/football/netherlands/eredivisie',\n",
    "              'https://www.unibet.eu/betting#filter/football/spain/laliga',\n",
    "              'https://www.unibet.eu/betting#filter/football/germany/bundesliga',\n",
    "              'https://www.unibet.eu/betting#filter/football/england/premier_league',\n",
    "              'https://www.unibet.eu/betting#filter/football/france/ligue_1',\n",
    "              'https://www.unibet.eu/betting#filter/football/italy/serie_a']\n",
    "url538 = ['https://projects.fivethirtyeight.com/soccer-predictions/eredivisie/',\n",
    "           'https://projects.fivethirtyeight.com/soccer-predictions/la-liga/',\n",
    "           'https://projects.fivethirtyeight.com/soccer-predictions/bundesliga/',\n",
    "           'https://projects.fivethirtyeight.com/soccer-predictions/premier-league/',\n",
    "           'https://projects.fivethirtyeight.com/soccer-predictions/ligue-1/',\n",
    "           'https://projects.fivethirtyeight.com/soccer-predictions/serie-a/']\n",
    "dfUrl = pd.DataFrame(data={'urlUnibet': urlUnibet, 'url538': url538})\n",
    "dfUrl"
   ]
  },
  {
   "cell_type": "markdown",
   "metadata": {},
   "source": [
    "## Odds from unibet"
   ]
  },
  {
   "cell_type": "code",
   "execution_count": 43,
   "metadata": {},
   "outputs": [],
   "source": [
    "import re\n",
    "from selenium import webdriver\n",
    "from selenium.webdriver.common.by import By\n",
    "from selenium.webdriver.support.ui import WebDriverWait\n",
    "from selenium.webdriver.support import expected_conditions as EC\n",
    "from bs4 import BeautifulSoup\n",
    "from time import sleep"
   ]
  },
  {
   "cell_type": "code",
   "execution_count": 45,
   "metadata": {},
   "outputs": [],
   "source": [
    "# Start our headless (no GUI) browser\n",
    "browser = webdriver.Firefox()"
   ]
  },
  {
   "cell_type": "code",
   "execution_count": 46,
   "metadata": {},
   "outputs": [
    {
     "name": "stdout",
     "output_type": "stream",
     "text": [
      "Done loading?\n"
     ]
    },
    {
     "ename": "AttributeError",
     "evalue": "type object 'By' has no attribute 'Class'",
     "output_type": "error",
     "traceback": [
      "\u001b[0;31m---------------------------------------------------------------------------\u001b[0m",
      "\u001b[0;31mAttributeError\u001b[0m                            Traceback (most recent call last)",
      "\u001b[0;32m<ipython-input-46-55fd4446f854>\u001b[0m in \u001b[0;36m<module>\u001b[0;34m()\u001b[0m\n\u001b[1;32m      6\u001b[0m \u001b[0;32mtry\u001b[0m\u001b[0;34m:\u001b[0m\u001b[0;34m\u001b[0m\u001b[0m\n\u001b[1;32m      7\u001b[0m     element = WebDriverWait(browser, 10).until(\n\u001b[0;32m----> 8\u001b[0;31m         \u001b[0mEC\u001b[0m\u001b[0;34m.\u001b[0m\u001b[0mpresence_of_all_elements_located\u001b[0m\u001b[0;34m(\u001b[0m\u001b[0;34m(\u001b[0m\u001b[0mBy\u001b[0m\u001b[0;34m.\u001b[0m\u001b[0mClass\u001b[0m\u001b[0;34m,\u001b[0m \u001b[0;34m\"KambiBC-collapsible-header\"\u001b[0m\u001b[0;34m)\u001b[0m\u001b[0;34m)\u001b[0m\u001b[0;34m\u001b[0m\u001b[0m\n\u001b[0m\u001b[1;32m      9\u001b[0m     )\n\u001b[1;32m     10\u001b[0m \u001b[0;32mfinally\u001b[0m\u001b[0;34m:\u001b[0m\u001b[0;34m\u001b[0m\u001b[0m\n",
      "\u001b[0;31mAttributeError\u001b[0m: type object 'By' has no attribute 'Class'"
     ]
    }
   ],
   "source": [
    "# Go to the URL\n",
    "url = dfUrl.loc[currentLeague, 'urlUnibet']\n",
    "browser.get(url)\n",
    "\n",
    "# Wait until 1+ collapsible headers are found\n",
    "try:\n",
    "    element = WebDriverWait(browser, 10).until(\n",
    "        EC.presence_of_all_elements_located((By.Class, \"KambiBC-collapsible-header\"))\n",
    "    )\n",
    "finally:\n",
    "    print('Done loading?')\n",
    "\n",
    "# Click on them\n",
    "\n",
    "    \n",
    "\n",
    "# Get the source code\n",
    "#soup = BeautifulSoup(browser.page_source, 'html5lib')"
   ]
  },
  {
   "cell_type": "code",
   "execution_count": 41,
   "metadata": {},
   "outputs": [
    {
     "ename": "NameError",
     "evalue": "name 'element' is not defined",
     "output_type": "error",
     "traceback": [
      "\u001b[0;31m---------------------------------------------------------------------------\u001b[0m",
      "\u001b[0;31mNameError\u001b[0m                                 Traceback (most recent call last)",
      "\u001b[0;32m<ipython-input-41-7c2186f626d0>\u001b[0m in \u001b[0;36m<module>\u001b[0;34m()\u001b[0m\n\u001b[0;32m----> 1\u001b[0;31m \u001b[0melement\u001b[0m\u001b[0;34m\u001b[0m\u001b[0m\n\u001b[0m",
      "\u001b[0;31mNameError\u001b[0m: name 'element' is not defined"
     ]
    }
   ],
   "source": [
    "element"
   ]
  },
  {
   "cell_type": "code",
   "execution_count": 32,
   "metadata": {},
   "outputs": [],
   "source": [
    "# Find the dropdown bars\n",
    "dropdowns = browser.find_elements_by_class_name('KambiBC-collapsible-header')\n",
    "\n",
    "# Click on them\n",
    "for dropdown in dropdowns:\n",
    "    dropdown.click()\n",
    "    sleep(1)\n",
    "\n",
    "# Now get the source code\n",
    "soup = BeautifulSoup(browser.page_source, 'html5lib')"
   ]
  },
  {
   "cell_type": "code",
   "execution_count": 33,
   "metadata": {},
   "outputs": [
    {
     "ename": "AttributeError",
     "evalue": "'NoneType' object has no attribute 'find_all'",
     "output_type": "error",
     "traceback": [
      "\u001b[0;31m---------------------------------------------------------------------------\u001b[0m",
      "\u001b[0;31mAttributeError\u001b[0m                            Traceback (most recent call last)",
      "\u001b[0;32m<ipython-input-33-b8a9004b1f88>\u001b[0m in \u001b[0;36m<module>\u001b[0;34m()\u001b[0m\n\u001b[1;32m      1\u001b[0m \u001b[0;31m# search for matches in the soup\u001b[0m\u001b[0;34m\u001b[0m\u001b[0;34m\u001b[0m\u001b[0m\n\u001b[0;32m----> 2\u001b[0;31m \u001b[0mmatches\u001b[0m \u001b[0;34m=\u001b[0m \u001b[0msoup\u001b[0m\u001b[0;34m.\u001b[0m\u001b[0mfind\u001b[0m\u001b[0;34m(\u001b[0m\u001b[0mid\u001b[0m\u001b[0;34m=\u001b[0m\u001b[0;34m\"KambiBC-container\"\u001b[0m\u001b[0;34m)\u001b[0m\u001b[0;34m.\u001b[0m\u001b[0mfind_all\u001b[0m\u001b[0;34m(\u001b[0m\u001b[0;34m\"li\"\u001b[0m\u001b[0;34m,\u001b[0m \u001b[0mclass_\u001b[0m\u001b[0;34m=\u001b[0m\u001b[0;34m\"KambiBC-event-item\"\u001b[0m\u001b[0;34m)\u001b[0m\u001b[0;34m\u001b[0m\u001b[0m\n\u001b[0m\u001b[1;32m      3\u001b[0m \u001b[0;34m\u001b[0m\u001b[0m\n\u001b[1;32m      4\u001b[0m \u001b[0;31m# print amount found. Also remember this amount for getting the same amout from 538\u001b[0m\u001b[0;34m\u001b[0m\u001b[0;34m\u001b[0m\u001b[0m\n\u001b[1;32m      5\u001b[0m \u001b[0mnumberOfMatches\u001b[0m \u001b[0;34m=\u001b[0m \u001b[0mlen\u001b[0m\u001b[0;34m(\u001b[0m\u001b[0mmatches\u001b[0m\u001b[0;34m)\u001b[0m\u001b[0;34m\u001b[0m\u001b[0m\n",
      "\u001b[0;31mAttributeError\u001b[0m: 'NoneType' object has no attribute 'find_all'"
     ]
    }
   ],
   "source": [
    "# search for matches in the soup\n",
    "matches = soup.find(id=\"KambiBC-container\").find_all(\"li\", class_=\"KambiBC-event-item\")\n",
    "\n",
    "# print amount found. Also remember this amount for getting the same amout from 538\n",
    "numberOfMatches = len(matches)\n",
    "print(\"Number of matches found: \", numberOfMatches)"
   ]
  },
  {
   "cell_type": "code",
   "execution_count": 29,
   "metadata": {},
   "outputs": [],
   "source": [
    "# quit the browser\n",
    "browser.quit()"
   ]
  },
  {
   "cell_type": "code",
   "execution_count": 8,
   "metadata": {},
   "outputs": [],
   "source": [
    "# Create empty list\n",
    "jobs = []\n",
    "\n",
    "for match in matches:\n",
    "    # Create empty dictionary\n",
    "    job = {}\n",
    "    \n",
    "    # Find info on the page\n",
    "    #job[\"date\"] = match.find(class_=\"KambiBC-event-item__start-time--date\").text # <- Doesnt work..?\n",
    "    teams = match.find_all(class_=\"KambiBC-event-participants__name\")\n",
    "    job[\"home_team\"] = teams[0].text\n",
    "    job[\"away_team\"] = teams[1].text\n",
    "    odds = match.find_all(class_=\"KambiBC-mod-outcome__odds\")\n",
    "    job[\"odd_home_win\"] = odds[0].text\n",
    "    job[\"odd_tie\"] = odds[1].text\n",
    "    job[\"odd_away_win\"] = odds[2].text\n",
    "    \n",
    "    # Add to the list\n",
    "    jobs.append(job)"
   ]
  },
  {
   "cell_type": "code",
   "execution_count": 9,
   "metadata": {},
   "outputs": [],
   "source": [
    "# Make a data frame\n",
    "dfOdds = pd.DataFrame(jobs)\n",
    "\n",
    "# Show\n",
    "#dfOdds"
   ]
  },
  {
   "cell_type": "markdown",
   "metadata": {},
   "source": [
    "### Data transformation"
   ]
  },
  {
   "cell_type": "code",
   "execution_count": 10,
   "metadata": {
    "scrolled": true
   },
   "outputs": [
    {
     "ename": "KeyError",
     "evalue": "'home_team'",
     "output_type": "error",
     "traceback": [
      "\u001b[0;31m---------------------------------------------------------------------------\u001b[0m",
      "\u001b[0;31mKeyError\u001b[0m                                  Traceback (most recent call last)",
      "\u001b[0;32m~/miniconda3/lib/python3.6/site-packages/pandas/core/indexes/base.py\u001b[0m in \u001b[0;36mget_loc\u001b[0;34m(self, key, method, tolerance)\u001b[0m\n\u001b[1;32m   2524\u001b[0m             \u001b[0;32mtry\u001b[0m\u001b[0;34m:\u001b[0m\u001b[0;34m\u001b[0m\u001b[0m\n\u001b[0;32m-> 2525\u001b[0;31m                 \u001b[0;32mreturn\u001b[0m \u001b[0mself\u001b[0m\u001b[0;34m.\u001b[0m\u001b[0m_engine\u001b[0m\u001b[0;34m.\u001b[0m\u001b[0mget_loc\u001b[0m\u001b[0;34m(\u001b[0m\u001b[0mkey\u001b[0m\u001b[0;34m)\u001b[0m\u001b[0;34m\u001b[0m\u001b[0m\n\u001b[0m\u001b[1;32m   2526\u001b[0m             \u001b[0;32mexcept\u001b[0m \u001b[0mKeyError\u001b[0m\u001b[0;34m:\u001b[0m\u001b[0;34m\u001b[0m\u001b[0m\n",
      "\u001b[0;32mpandas/_libs/index.pyx\u001b[0m in \u001b[0;36mpandas._libs.index.IndexEngine.get_loc\u001b[0;34m()\u001b[0m\n",
      "\u001b[0;32mpandas/_libs/index.pyx\u001b[0m in \u001b[0;36mpandas._libs.index.IndexEngine.get_loc\u001b[0;34m()\u001b[0m\n",
      "\u001b[0;32mpandas/_libs/hashtable_class_helper.pxi\u001b[0m in \u001b[0;36mpandas._libs.hashtable.PyObjectHashTable.get_item\u001b[0;34m()\u001b[0m\n",
      "\u001b[0;32mpandas/_libs/hashtable_class_helper.pxi\u001b[0m in \u001b[0;36mpandas._libs.hashtable.PyObjectHashTable.get_item\u001b[0;34m()\u001b[0m\n",
      "\u001b[0;31mKeyError\u001b[0m: 'home_team'",
      "\nDuring handling of the above exception, another exception occurred:\n",
      "\u001b[0;31mKeyError\u001b[0m                                  Traceback (most recent call last)",
      "\u001b[0;32m<ipython-input-10-c721e456d31a>\u001b[0m in \u001b[0;36m<module>\u001b[0;34m()\u001b[0m\n\u001b[1;32m      1\u001b[0m \u001b[0;31m# Change team names to lowercase\u001b[0m\u001b[0;34m\u001b[0m\u001b[0;34m\u001b[0m\u001b[0m\n\u001b[0;32m----> 2\u001b[0;31m \u001b[0mdfOdds\u001b[0m\u001b[0;34m[\u001b[0m\u001b[0;34m\"home_team\"\u001b[0m\u001b[0;34m]\u001b[0m \u001b[0;34m=\u001b[0m \u001b[0mdfOdds\u001b[0m\u001b[0;34m[\u001b[0m\u001b[0;34m\"home_team\"\u001b[0m\u001b[0;34m]\u001b[0m\u001b[0;34m.\u001b[0m\u001b[0mstr\u001b[0m\u001b[0;34m.\u001b[0m\u001b[0mlower\u001b[0m\u001b[0;34m(\u001b[0m\u001b[0;34m)\u001b[0m\u001b[0;34m\u001b[0m\u001b[0m\n\u001b[0m\u001b[1;32m      3\u001b[0m \u001b[0mdfOdds\u001b[0m\u001b[0;34m[\u001b[0m\u001b[0;34m\"away_team\"\u001b[0m\u001b[0;34m]\u001b[0m \u001b[0;34m=\u001b[0m \u001b[0mdfOdds\u001b[0m\u001b[0;34m[\u001b[0m\u001b[0;34m\"away_team\"\u001b[0m\u001b[0;34m]\u001b[0m\u001b[0;34m.\u001b[0m\u001b[0mstr\u001b[0m\u001b[0;34m.\u001b[0m\u001b[0mlower\u001b[0m\u001b[0;34m(\u001b[0m\u001b[0;34m)\u001b[0m\u001b[0;34m\u001b[0m\u001b[0m\n\u001b[1;32m      4\u001b[0m \u001b[0;34m\u001b[0m\u001b[0m\n\u001b[1;32m      5\u001b[0m \u001b[0;31m# Remove all accents\u001b[0m\u001b[0;34m\u001b[0m\u001b[0;34m\u001b[0m\u001b[0m\n",
      "\u001b[0;32m~/miniconda3/lib/python3.6/site-packages/pandas/core/frame.py\u001b[0m in \u001b[0;36m__getitem__\u001b[0;34m(self, key)\u001b[0m\n\u001b[1;32m   2137\u001b[0m             \u001b[0;32mreturn\u001b[0m \u001b[0mself\u001b[0m\u001b[0;34m.\u001b[0m\u001b[0m_getitem_multilevel\u001b[0m\u001b[0;34m(\u001b[0m\u001b[0mkey\u001b[0m\u001b[0;34m)\u001b[0m\u001b[0;34m\u001b[0m\u001b[0m\n\u001b[1;32m   2138\u001b[0m         \u001b[0;32melse\u001b[0m\u001b[0;34m:\u001b[0m\u001b[0;34m\u001b[0m\u001b[0m\n\u001b[0;32m-> 2139\u001b[0;31m             \u001b[0;32mreturn\u001b[0m \u001b[0mself\u001b[0m\u001b[0;34m.\u001b[0m\u001b[0m_getitem_column\u001b[0m\u001b[0;34m(\u001b[0m\u001b[0mkey\u001b[0m\u001b[0;34m)\u001b[0m\u001b[0;34m\u001b[0m\u001b[0m\n\u001b[0m\u001b[1;32m   2140\u001b[0m \u001b[0;34m\u001b[0m\u001b[0m\n\u001b[1;32m   2141\u001b[0m     \u001b[0;32mdef\u001b[0m \u001b[0m_getitem_column\u001b[0m\u001b[0;34m(\u001b[0m\u001b[0mself\u001b[0m\u001b[0;34m,\u001b[0m \u001b[0mkey\u001b[0m\u001b[0;34m)\u001b[0m\u001b[0;34m:\u001b[0m\u001b[0;34m\u001b[0m\u001b[0m\n",
      "\u001b[0;32m~/miniconda3/lib/python3.6/site-packages/pandas/core/frame.py\u001b[0m in \u001b[0;36m_getitem_column\u001b[0;34m(self, key)\u001b[0m\n\u001b[1;32m   2144\u001b[0m         \u001b[0;31m# get column\u001b[0m\u001b[0;34m\u001b[0m\u001b[0;34m\u001b[0m\u001b[0m\n\u001b[1;32m   2145\u001b[0m         \u001b[0;32mif\u001b[0m \u001b[0mself\u001b[0m\u001b[0;34m.\u001b[0m\u001b[0mcolumns\u001b[0m\u001b[0;34m.\u001b[0m\u001b[0mis_unique\u001b[0m\u001b[0;34m:\u001b[0m\u001b[0;34m\u001b[0m\u001b[0m\n\u001b[0;32m-> 2146\u001b[0;31m             \u001b[0;32mreturn\u001b[0m \u001b[0mself\u001b[0m\u001b[0;34m.\u001b[0m\u001b[0m_get_item_cache\u001b[0m\u001b[0;34m(\u001b[0m\u001b[0mkey\u001b[0m\u001b[0;34m)\u001b[0m\u001b[0;34m\u001b[0m\u001b[0m\n\u001b[0m\u001b[1;32m   2147\u001b[0m \u001b[0;34m\u001b[0m\u001b[0m\n\u001b[1;32m   2148\u001b[0m         \u001b[0;31m# duplicate columns & possible reduce dimensionality\u001b[0m\u001b[0;34m\u001b[0m\u001b[0;34m\u001b[0m\u001b[0m\n",
      "\u001b[0;32m~/miniconda3/lib/python3.6/site-packages/pandas/core/generic.py\u001b[0m in \u001b[0;36m_get_item_cache\u001b[0;34m(self, item)\u001b[0m\n\u001b[1;32m   1840\u001b[0m         \u001b[0mres\u001b[0m \u001b[0;34m=\u001b[0m \u001b[0mcache\u001b[0m\u001b[0;34m.\u001b[0m\u001b[0mget\u001b[0m\u001b[0;34m(\u001b[0m\u001b[0mitem\u001b[0m\u001b[0;34m)\u001b[0m\u001b[0;34m\u001b[0m\u001b[0m\n\u001b[1;32m   1841\u001b[0m         \u001b[0;32mif\u001b[0m \u001b[0mres\u001b[0m \u001b[0;32mis\u001b[0m \u001b[0;32mNone\u001b[0m\u001b[0;34m:\u001b[0m\u001b[0;34m\u001b[0m\u001b[0m\n\u001b[0;32m-> 1842\u001b[0;31m             \u001b[0mvalues\u001b[0m \u001b[0;34m=\u001b[0m \u001b[0mself\u001b[0m\u001b[0;34m.\u001b[0m\u001b[0m_data\u001b[0m\u001b[0;34m.\u001b[0m\u001b[0mget\u001b[0m\u001b[0;34m(\u001b[0m\u001b[0mitem\u001b[0m\u001b[0;34m)\u001b[0m\u001b[0;34m\u001b[0m\u001b[0m\n\u001b[0m\u001b[1;32m   1843\u001b[0m             \u001b[0mres\u001b[0m \u001b[0;34m=\u001b[0m \u001b[0mself\u001b[0m\u001b[0;34m.\u001b[0m\u001b[0m_box_item_values\u001b[0m\u001b[0;34m(\u001b[0m\u001b[0mitem\u001b[0m\u001b[0;34m,\u001b[0m \u001b[0mvalues\u001b[0m\u001b[0;34m)\u001b[0m\u001b[0;34m\u001b[0m\u001b[0m\n\u001b[1;32m   1844\u001b[0m             \u001b[0mcache\u001b[0m\u001b[0;34m[\u001b[0m\u001b[0mitem\u001b[0m\u001b[0;34m]\u001b[0m \u001b[0;34m=\u001b[0m \u001b[0mres\u001b[0m\u001b[0;34m\u001b[0m\u001b[0m\n",
      "\u001b[0;32m~/miniconda3/lib/python3.6/site-packages/pandas/core/internals.py\u001b[0m in \u001b[0;36mget\u001b[0;34m(self, item, fastpath)\u001b[0m\n\u001b[1;32m   3841\u001b[0m \u001b[0;34m\u001b[0m\u001b[0m\n\u001b[1;32m   3842\u001b[0m             \u001b[0;32mif\u001b[0m \u001b[0;32mnot\u001b[0m \u001b[0misna\u001b[0m\u001b[0;34m(\u001b[0m\u001b[0mitem\u001b[0m\u001b[0;34m)\u001b[0m\u001b[0;34m:\u001b[0m\u001b[0;34m\u001b[0m\u001b[0m\n\u001b[0;32m-> 3843\u001b[0;31m                 \u001b[0mloc\u001b[0m \u001b[0;34m=\u001b[0m \u001b[0mself\u001b[0m\u001b[0;34m.\u001b[0m\u001b[0mitems\u001b[0m\u001b[0;34m.\u001b[0m\u001b[0mget_loc\u001b[0m\u001b[0;34m(\u001b[0m\u001b[0mitem\u001b[0m\u001b[0;34m)\u001b[0m\u001b[0;34m\u001b[0m\u001b[0m\n\u001b[0m\u001b[1;32m   3844\u001b[0m             \u001b[0;32melse\u001b[0m\u001b[0;34m:\u001b[0m\u001b[0;34m\u001b[0m\u001b[0m\n\u001b[1;32m   3845\u001b[0m                 \u001b[0mindexer\u001b[0m \u001b[0;34m=\u001b[0m \u001b[0mnp\u001b[0m\u001b[0;34m.\u001b[0m\u001b[0marange\u001b[0m\u001b[0;34m(\u001b[0m\u001b[0mlen\u001b[0m\u001b[0;34m(\u001b[0m\u001b[0mself\u001b[0m\u001b[0;34m.\u001b[0m\u001b[0mitems\u001b[0m\u001b[0;34m)\u001b[0m\u001b[0;34m)\u001b[0m\u001b[0;34m[\u001b[0m\u001b[0misna\u001b[0m\u001b[0;34m(\u001b[0m\u001b[0mself\u001b[0m\u001b[0;34m.\u001b[0m\u001b[0mitems\u001b[0m\u001b[0;34m)\u001b[0m\u001b[0;34m]\u001b[0m\u001b[0;34m\u001b[0m\u001b[0m\n",
      "\u001b[0;32m~/miniconda3/lib/python3.6/site-packages/pandas/core/indexes/base.py\u001b[0m in \u001b[0;36mget_loc\u001b[0;34m(self, key, method, tolerance)\u001b[0m\n\u001b[1;32m   2525\u001b[0m                 \u001b[0;32mreturn\u001b[0m \u001b[0mself\u001b[0m\u001b[0;34m.\u001b[0m\u001b[0m_engine\u001b[0m\u001b[0;34m.\u001b[0m\u001b[0mget_loc\u001b[0m\u001b[0;34m(\u001b[0m\u001b[0mkey\u001b[0m\u001b[0;34m)\u001b[0m\u001b[0;34m\u001b[0m\u001b[0m\n\u001b[1;32m   2526\u001b[0m             \u001b[0;32mexcept\u001b[0m \u001b[0mKeyError\u001b[0m\u001b[0;34m:\u001b[0m\u001b[0;34m\u001b[0m\u001b[0m\n\u001b[0;32m-> 2527\u001b[0;31m                 \u001b[0;32mreturn\u001b[0m \u001b[0mself\u001b[0m\u001b[0;34m.\u001b[0m\u001b[0m_engine\u001b[0m\u001b[0;34m.\u001b[0m\u001b[0mget_loc\u001b[0m\u001b[0;34m(\u001b[0m\u001b[0mself\u001b[0m\u001b[0;34m.\u001b[0m\u001b[0m_maybe_cast_indexer\u001b[0m\u001b[0;34m(\u001b[0m\u001b[0mkey\u001b[0m\u001b[0;34m)\u001b[0m\u001b[0;34m)\u001b[0m\u001b[0;34m\u001b[0m\u001b[0m\n\u001b[0m\u001b[1;32m   2528\u001b[0m \u001b[0;34m\u001b[0m\u001b[0m\n\u001b[1;32m   2529\u001b[0m         \u001b[0mindexer\u001b[0m \u001b[0;34m=\u001b[0m \u001b[0mself\u001b[0m\u001b[0;34m.\u001b[0m\u001b[0mget_indexer\u001b[0m\u001b[0;34m(\u001b[0m\u001b[0;34m[\u001b[0m\u001b[0mkey\u001b[0m\u001b[0;34m]\u001b[0m\u001b[0;34m,\u001b[0m \u001b[0mmethod\u001b[0m\u001b[0;34m=\u001b[0m\u001b[0mmethod\u001b[0m\u001b[0;34m,\u001b[0m \u001b[0mtolerance\u001b[0m\u001b[0;34m=\u001b[0m\u001b[0mtolerance\u001b[0m\u001b[0;34m)\u001b[0m\u001b[0;34m\u001b[0m\u001b[0m\n",
      "\u001b[0;32mpandas/_libs/index.pyx\u001b[0m in \u001b[0;36mpandas._libs.index.IndexEngine.get_loc\u001b[0;34m()\u001b[0m\n",
      "\u001b[0;32mpandas/_libs/index.pyx\u001b[0m in \u001b[0;36mpandas._libs.index.IndexEngine.get_loc\u001b[0;34m()\u001b[0m\n",
      "\u001b[0;32mpandas/_libs/hashtable_class_helper.pxi\u001b[0m in \u001b[0;36mpandas._libs.hashtable.PyObjectHashTable.get_item\u001b[0;34m()\u001b[0m\n",
      "\u001b[0;32mpandas/_libs/hashtable_class_helper.pxi\u001b[0m in \u001b[0;36mpandas._libs.hashtable.PyObjectHashTable.get_item\u001b[0;34m()\u001b[0m\n",
      "\u001b[0;31mKeyError\u001b[0m: 'home_team'"
     ]
    }
   ],
   "source": [
    "# Change team names to lowercase\n",
    "dfOdds[\"home_team\"] = dfOdds[\"home_team\"].str.lower()\n",
    "dfOdds[\"away_team\"] = dfOdds[\"away_team\"].str.lower()\n",
    "\n",
    "# Remove all accents\n",
    "dfOdds[\"home_team\"] = dfOdds[\"home_team\"].str.normalize('NFKD').str.encode(encoding='ascii',errors='ignore').str.decode('utf-8')\n",
    "dfOdds[\"away_team\"] = dfOdds[\"away_team\"].str.normalize('NFKD').str.encode(encoding='ascii',errors='ignore').str.decode('utf-8')\n",
    "\n",
    "# Change the team names so that they match the ones in the 538 data frame\n",
    "changes_nl = {'fc groningen': 'groningen',\n",
    "              'fc twente': 'twente',\n",
    "              'sc heerenveen': 'heerenveen',\n",
    "              'fc utrecht': 'utrecht'}\n",
    "changes_de = {'bayer leverkusen': 'leverkusen',\n",
    "             'borussia monchengladbach': 'gladbach',\n",
    "             'vfl wolfsburg': 'wolfsburg',\n",
    "             'borussia dortmund': 'dortmund',\n",
    "             'augsburg': 'fc ausburg'}\n",
    "changes_es = {'deportiva las palmas': 'las palmas',\n",
    "             'fc barcelona': 'barcelona'}\n",
    "changes_en = {}\n",
    "changes_fr = {'saint-etienne': 'st etienne',\n",
    "             'paris sg': 'psg'}\n",
    "changes_it = {'hellas verona': 'verona'}\n",
    "changes = {**changes_nl, **changes_de, **changes_es, **changes_en, **changes_fr, **changes_it}\n",
    "for old,new in changes.items():\n",
    "    # Replace!\n",
    "    dfOdds[\"home_team\"] = dfOdds[\"home_team\"].str.replace(old, new)\n",
    "    dfOdds[\"away_team\"] = dfOdds[\"away_team\"].str.replace(old, new)\n",
    "\n",
    "# Make 3-letter code names\n",
    "dfOdds[\"home_code\"] = dfOdds[\"home_team\"].str[:3]\n",
    "dfOdds[\"away_code\"] = dfOdds[\"away_team\"].str[:3]\n",
    "\n",
    "# Convert to numbers\n",
    "dfOdds[\"odd_home_win\"] = pd.to_numeric(dfOdds[\"odd_home_win\"])\n",
    "dfOdds[\"odd_away_win\"] = pd.to_numeric(dfOdds[\"odd_away_win\"])\n",
    "dfOdds[\"odd_tie\"] = pd.to_numeric(dfOdds[\"odd_tie\"])\n",
    "\n",
    "# Show\n",
    "dfOdds"
   ]
  },
  {
   "cell_type": "markdown",
   "metadata": {},
   "source": [
    "## Predictions from five thirty eight"
   ]
  },
  {
   "cell_type": "code",
   "execution_count": null,
   "metadata": {},
   "outputs": [],
   "source": [
    "from lxml import html\n",
    "from lxml.cssselect import CSSSelector\n",
    "import requests\n",
    "import re\n",
    "import pandas as pd"
   ]
  },
  {
   "cell_type": "code",
   "execution_count": null,
   "metadata": {},
   "outputs": [],
   "source": [
    "# Go to the URL\n",
    "url = dfUrl.loc[currentLeague, 'url538']\n",
    "page = requests.get(url)\n",
    "\n",
    "# Get the source code\n",
    "tree = html.fromstring(page.content)"
   ]
  },
  {
   "cell_type": "code",
   "execution_count": null,
   "metadata": {},
   "outputs": [],
   "source": [
    "# Get the same amount of matches as from unibet\n",
    "matches = tree.cssselect('.games-container.upcoming .match-container')#[:numberOfMatches]\n",
    "print(\"Number of matches found \", len(matches))"
   ]
  },
  {
   "cell_type": "code",
   "execution_count": null,
   "metadata": {},
   "outputs": [],
   "source": [
    "cols = ['date', 'home_team', 'away_team', 'home_win', 'tie', 'away_win']\n",
    "df538 = pd.DataFrame(columns=cols)\n",
    "\n",
    "for idx in range(len(matches)):\n",
    "    match = matches[idx]\n",
    "    \n",
    "    df538.at[idx, 'date'] = match.cssselect(\".date div\")[0].text\n",
    "    df538.at[idx, 'home_team'] = match.cssselect(\".match-top .name\")[0].text\n",
    "    df538.at[idx, 'home_win'] = match.cssselect(\".match-top .prob\")[0].text\n",
    "    df538.at[idx, 'tie'] = match.cssselect(\".tie-prob div\")[0].text\n",
    "    df538.at[idx, 'away_team'] = match.cssselect(\".match-bottom .name\")[0].text\n",
    "    df538.at[idx, 'away_win'] = match.cssselect(\".match-bottom .prob\")[0].text\n",
    "    \n",
    "#df538"
   ]
  },
  {
   "cell_type": "markdown",
   "metadata": {},
   "source": [
    "### Data transformation"
   ]
  },
  {
   "cell_type": "code",
   "execution_count": null,
   "metadata": {
    "scrolled": true
   },
   "outputs": [],
   "source": [
    "# Turn percentages into floats\n",
    "df538['home_win'] = pd.to_numeric(df538['home_win'].str.replace(\"%\",\"\"))/100\n",
    "df538['tie'] = pd.to_numeric(df538['tie'].str.replace(\"%\",\"\"))/100\n",
    "df538['away_win'] = pd.to_numeric(df538['away_win'].str.replace(\"%\",\"\"))/100\n",
    "\n",
    "# Drop the date column\n",
    "#del df538[\"date\"]\n",
    "\n",
    "# Change team names to lowercase\n",
    "df538[\"home_team\"] = df538[\"home_team\"].str.lower()\n",
    "df538[\"away_team\"] = df538[\"away_team\"].str.lower()\n",
    "\n",
    "# Remove all accents\n",
    "df538[\"home_team\"] = df538[\"home_team\"].str.normalize('NFKD').str.encode(encoding='ascii',errors='ignore').str.decode('utf-8')\n",
    "df538[\"away_team\"] = df538[\"away_team\"].str.normalize('NFKD').str.encode(encoding='ascii',errors='ignore').str.decode('utf-8')\n",
    "\n",
    "# Make 3-letter code names\n",
    "df538[\"home_code\"] = df538[\"home_team\"].str[:3]\n",
    "df538[\"away_code\"] = df538[\"away_team\"].str[:3]\n",
    "\n",
    "# SHow\n",
    "df538"
   ]
  },
  {
   "cell_type": "markdown",
   "metadata": {},
   "source": [
    "# Merge"
   ]
  },
  {
   "cell_type": "code",
   "execution_count": null,
   "metadata": {},
   "outputs": [],
   "source": [
    "# check for missing matches for Unibet\n",
    "dfCheck = df538.merge(dfOdds, how=\"outer\", on=[\"home_code\", \"away_code\"], indicator=True)\n",
    "dfCheck[dfCheck._merge == 'right_only']"
   ]
  },
  {
   "cell_type": "code",
   "execution_count": null,
   "metadata": {},
   "outputs": [],
   "source": [
    "# Merge by 3-letter codes\n",
    "dfMerge = df538.merge(dfOdds, how=\"inner\", on=[\"home_code\", \"away_code\"])\n",
    "\n",
    "# print\n",
    "print('Number of matches succesfully merged:', len(dfMerge))"
   ]
  },
  {
   "cell_type": "markdown",
   "metadata": {},
   "source": [
    "# Analyse"
   ]
  },
  {
   "cell_type": "code",
   "execution_count": null,
   "metadata": {},
   "outputs": [],
   "source": [
    "# Calculate the expected values for win, tie and loss\n",
    "dfMerge[\"expect_home\"] = dfMerge[\"home_win\"] * dfMerge[\"odd_home_win\"]\n",
    "dfMerge[\"expect_away\"] = dfMerge[\"away_win\"] * dfMerge[\"odd_away_win\"]\n",
    "dfMerge[\"expect_tie\"] = dfMerge[\"tie\"] * dfMerge[\"odd_tie\"]\n",
    "\n",
    "# Set threshold\n",
    "threshold = 1.2\n",
    "\n",
    "# Show\n",
    "dfMerge.query('expect_home>@threshold or expect_away>@threshold or expect_tie>@threshold')\\\n",
    "    [[\"date\", \"home_team_x\", \"away_team_x\", \"expect_home\", \"expect_tie\", \"expect_away\"]]"
   ]
  }
 ],
 "metadata": {
  "kernelspec": {
   "display_name": "Python 3",
   "language": "python",
   "name": "python3"
  },
  "language_info": {
   "codemirror_mode": {
    "name": "ipython",
    "version": 3
   },
   "file_extension": ".py",
   "mimetype": "text/x-python",
   "name": "python",
   "nbconvert_exporter": "python",
   "pygments_lexer": "ipython3",
   "version": "3.6.3"
  }
 },
 "nbformat": 4,
 "nbformat_minor": 2
}
