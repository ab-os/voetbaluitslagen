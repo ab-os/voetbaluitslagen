{
 "cells": [
  {
   "cell_type": "markdown",
   "metadata": {},
   "source": [
    "# Scrape the odds\n",
    "Website: https://www.unibet.eu/betting#filter/football/\n",
    "\n",
    "From Unibet using Selenium and Firefox."
   ]
  },
  {
   "cell_type": "code",
   "execution_count": 1,
   "metadata": {},
   "outputs": [],
   "source": [
    "import numpy as np\n",
    "import pandas as pd\n",
    "import re\n",
    "from selenium import webdriver\n",
    "from selenium.webdriver.common.by import By\n",
    "from selenium.webdriver.support.ui import WebDriverWait\n",
    "from selenium.webdriver.support import expected_conditions as EC\n",
    "from selenium.common.exceptions import TimeoutException\n",
    "from bs4 import BeautifulSoup\n",
    "from time import sleep"
   ]
  },
  {
   "cell_type": "code",
   "execution_count": 15,
   "metadata": {},
   "outputs": [],
   "source": [
    "# quit the browser\n",
    "browser.quit()"
   ]
  },
  {
   "cell_type": "markdown",
   "metadata": {},
   "source": [
    "## Initialize the browser"
   ]
  },
  {
   "cell_type": "code",
   "execution_count": 53,
   "metadata": {},
   "outputs": [],
   "source": [
    "# start the browser\n",
    "browser = webdriver.Firefox()\n",
    "\n",
    "# have a generic wait object for the driver\n",
    "wait = WebDriverWait(browser, 10)"
   ]
  },
  {
   "cell_type": "code",
   "execution_count": 54,
   "metadata": {
    "scrolled": true
   },
   "outputs": [],
   "source": [
    "# go to Unibet\n",
    "url_0 = 'https://www.unibet.eu/betting#filter/football/'\n",
    "browser.get(url_0)\n",
    "\n",
    "# wait until the accept cookies button is clickable\n",
    "try:\n",
    "    element = wait.until(\n",
    "        EC.element_to_be_clickable(\n",
    "            (By.ID, \"CybotCookiebotDialogBodyButtonAccept\")\n",
    "        )\n",
    "    )\n",
    "    # click on it\n",
    "    element.click()\n",
    "except TimeoutException:\n",
    "    # not found, but probably already clicked before so continue\n",
    "    import warnings\n",
    "    warnings.warn('Element CybotCookiebotDialogBodyButtonAccept not found. Maybe something went wrong or maybe it''s already clicked.')\n",
    "    pass\n",
    "finally:\n",
    "    # wait until the cookie bar is really gone\n",
    "    wait.until(\n",
    "        EC.invisibility_of_element_located(\n",
    "            (By.ID, \"CybotCookiebotDialog\")\n",
    "        )\n",
    "    )"
   ]
  },
  {
   "cell_type": "markdown",
   "metadata": {},
   "source": [
    "## Visit some leagues for scraping"
   ]
  },
  {
   "cell_type": "code",
   "execution_count": 19,
   "metadata": {},
   "outputs": [
    {
     "data": {
      "text/plain": [
       "['https://www.unibet.eu/betting#filter/football/netherlands/eredivisie',\n",
       " 'https://www.unibet.eu/betting#filter/football/spain/la_liga',\n",
       " 'https://www.unibet.eu/betting#filter/football/germany/bundesliga',\n",
       " 'https://www.unibet.eu/betting#filter/football/england/premier_league',\n",
       " 'https://www.unibet.eu/betting#filter/football/france/ligue_1',\n",
       " 'https://www.unibet.eu/betting#filter/football/italy/serie_a']"
      ]
     },
     "execution_count": 19,
     "metadata": {},
     "output_type": "execute_result"
    }
   ],
   "source": [
    "# the urls we'll visit\n",
    "urls = [url_0 + u for u in ['netherlands/eredivisie',\n",
    "                            'spain/la_liga',\n",
    "                            'germany/bundesliga',\n",
    "                            'england/premier_league',\n",
    "                            'france/ligue_1',\n",
    "                            'italy/serie_a']]\n",
    "urls"
   ]
  },
  {
   "cell_type": "code",
   "execution_count": 82,
   "metadata": {},
   "outputs": [],
   "source": [
    "# fcn: extract match info from a <li.KambiBC-event-item>\n",
    "def extractMatchInfo(match):\n",
    "    teams = match.select('.KambiBC-event-participants__name')\n",
    "    odds = match.select('span.KambiBC-mod-outcome__odds')\n",
    "    info = {'home_team': teams[0].text,\n",
    "            'away_team': teams[1].text,\n",
    "            'odd_home_win': odds[0].text,\n",
    "            'odd_tie': odds[1].text,\n",
    "            'odd_away_win': odds[2].text\n",
    "           }\n",
    "    return info"
   ]
  },
  {
   "cell_type": "markdown",
   "metadata": {},
   "source": [
    "### Crawl urls and get the soups"
   ]
  },
  {
   "cell_type": "code",
   "execution_count": 61,
   "metadata": {},
   "outputs": [],
   "source": [
    "# wait for page to be done loading\n",
    "def pageReady(interval=1):\n",
    "    # in seconds\n",
    "    waited = 0\n",
    "    while True:\n",
    "        soupCheck1 = BeautifulSoup(browser.page_source, 'html5lib')\n",
    "        waited += interval\n",
    "        sleep(interval)\n",
    "        soupCheck2 = BeautifulSoup(browser.page_source, 'html5lib')\n",
    "        if soupCheck1 == soupCheck2:\n",
    "            break\n",
    "    return waited"
   ]
  },
  {
   "cell_type": "code",
   "execution_count": 55,
   "metadata": {
    "scrolled": true
   },
   "outputs": [
    {
     "name": "stdout",
     "output_type": "stream",
     "text": [
      "Going to: https://www.unibet.eu/betting#filter/football/netherlands/eredivisie\n",
      ".\n",
      "hi\n"
     ]
    },
    {
     "ename": "TimeoutException",
     "evalue": "Message: \n",
     "output_type": "error",
     "traceback": [
      "\u001b[0;31m---------------------------------------------------------------------------\u001b[0m",
      "\u001b[0;31mTimeoutException\u001b[0m                          Traceback (most recent call last)",
      "\u001b[0;32m<ipython-input-55-745b643c0c18>\u001b[0m in \u001b[0;36m<module>\u001b[0;34m()\u001b[0m\n\u001b[1;32m     32\u001b[0m     \u001b[0;31m# wait until all green buttons are present otherwise raise an error?\u001b[0m\u001b[0;34m\u001b[0m\u001b[0;34m\u001b[0m\u001b[0m\n\u001b[1;32m     33\u001b[0m     wait.until(EC.presence_of_all_elements_located(\n\u001b[0;32m---> 34\u001b[0;31m             \u001b[0;34m(\u001b[0m\u001b[0mBy\u001b[0m\u001b[0;34m.\u001b[0m\u001b[0mCSS_SELECTOR\u001b[0m\u001b[0;34m,\u001b[0m \u001b[0;34m'button.KambiBC-mod-outcome'\u001b[0m\u001b[0;34m)\u001b[0m\u001b[0;34m\u001b[0m\u001b[0m\n\u001b[0m\u001b[1;32m     35\u001b[0m     ))\n\u001b[1;32m     36\u001b[0m \u001b[0;34m\u001b[0m\u001b[0m\n",
      "\u001b[0;32m~/miniconda3/lib/python3.7/site-packages/selenium/webdriver/support/wait.py\u001b[0m in \u001b[0;36muntil\u001b[0;34m(self, method, message)\u001b[0m\n\u001b[1;32m     78\u001b[0m             \u001b[0;32mif\u001b[0m \u001b[0mtime\u001b[0m\u001b[0;34m.\u001b[0m\u001b[0mtime\u001b[0m\u001b[0;34m(\u001b[0m\u001b[0;34m)\u001b[0m \u001b[0;34m>\u001b[0m \u001b[0mend_time\u001b[0m\u001b[0;34m:\u001b[0m\u001b[0;34m\u001b[0m\u001b[0m\n\u001b[1;32m     79\u001b[0m                 \u001b[0;32mbreak\u001b[0m\u001b[0;34m\u001b[0m\u001b[0m\n\u001b[0;32m---> 80\u001b[0;31m         \u001b[0;32mraise\u001b[0m \u001b[0mTimeoutException\u001b[0m\u001b[0;34m(\u001b[0m\u001b[0mmessage\u001b[0m\u001b[0;34m,\u001b[0m \u001b[0mscreen\u001b[0m\u001b[0;34m,\u001b[0m \u001b[0mstacktrace\u001b[0m\u001b[0;34m)\u001b[0m\u001b[0;34m\u001b[0m\u001b[0m\n\u001b[0m\u001b[1;32m     81\u001b[0m \u001b[0;34m\u001b[0m\u001b[0m\n\u001b[1;32m     82\u001b[0m     \u001b[0;32mdef\u001b[0m \u001b[0muntil_not\u001b[0m\u001b[0;34m(\u001b[0m\u001b[0mself\u001b[0m\u001b[0;34m,\u001b[0m \u001b[0mmethod\u001b[0m\u001b[0;34m,\u001b[0m \u001b[0mmessage\u001b[0m\u001b[0;34m=\u001b[0m\u001b[0;34m''\u001b[0m\u001b[0;34m)\u001b[0m\u001b[0;34m:\u001b[0m\u001b[0;34m\u001b[0m\u001b[0m\n",
      "\u001b[0;31mTimeoutException\u001b[0m: Message: \n"
     ]
    }
   ],
   "source": [
    "# create empty dict to append the soup of each league\n",
    "soups = dict()\n",
    "\n",
    "# loop over all urls\n",
    "for url in urls:\n",
    "    \n",
    "    # debug\n",
    "    url = urls[0]\n",
    "    \n",
    "    # go to url\n",
    "    print('Going to:', url)\n",
    "    browser.get(url)\n",
    "\n",
    "    # click on all the dropdown elements\n",
    "    while True:\n",
    "        try:\n",
    "            print('.')\n",
    "            # wait and find a dropdown element, ignore the already expanded ones\n",
    "            dropdown = browser.until(EC.element_to_be_clickable(\n",
    "                (By.CSS_SELECTOR,\n",
    "                '.KambiBC-collapsible-container:not(.KambiBC-expanded)')\n",
    "            ))\n",
    "            print(dropdown)\n",
    "            # click on it\n",
    "            dropdown.click()\n",
    "        except TimeoutException:\n",
    "            # not found, break the loop and continue with script\n",
    "            break\n",
    "\n",
    "    print('hi')\n",
    "    \n",
    "    # wait until all (how all?) green buttons are present\n",
    "    wait.until(EC.presence_of_all_elements_located(\n",
    "            (By.CSS_SELECTOR, 'button.KambiBC-mod-outcome')\n",
    "    ))\n",
    "\n",
    "    # now get the beautiful source code\n",
    "    soup = BeautifulSoup(browser.page_source, 'html5lib')\n",
    "    \n",
    "    # select and store only the list of matches\n",
    "    league = re.split('/', url)[-1]\n",
    "    soups[league] = soup.select_one('.KambiBC-event-groups-list')\n",
    "    \n",
    "    # debug\n",
    "    break"
   ]
  },
  {
   "cell_type": "code",
   "execution_count": 60,
   "metadata": {},
   "outputs": [
    {
     "name": "stdout",
     "output_type": "stream",
     "text": [
      "Going to: https://www.unibet.eu/betting#filter/football/spain/la_liga\n",
      "Page ready in 2\n",
      "2\n"
     ]
    }
   ],
   "source": [
    "# create empty dict to append the soup of each league\n",
    "soups = dict()\n",
    "\n",
    "# loop over all urls\n",
    "for url in urls:\n",
    "    \n",
    "    # debug\n",
    "    url = urls[1]\n",
    "    \n",
    "    # go to url\n",
    "    print('Going to:', url)\n",
    "    browser.get(url)\n",
    "    \n",
    "    # wait until page is ready\n",
    "    print('Page ready in', pageReady())\n",
    "\n",
    "    # click on all the dropdown elements, ignore the already expanded ones\n",
    "    dropdowns = browser.find_elements(By.CSS_SELECTOR,\n",
    "        '.KambiBC-collapsible-container:not(.KambiBC-expanded)')\n",
    "    for dropdown in dropdowns:\n",
    "        dropdown.click()\n",
    "\n",
    "    # wait again\n",
    "    print('Page ready in', pageReady())\n",
    "\n",
    "    # now get the beautiful source code\n",
    "    soup = BeautifulSoup(browser.page_source, 'html5lib')\n",
    "    \n",
    "    # select and store only the list of matches\n",
    "    league = re.split('/', url)[-1]\n",
    "    soups[league] = soup.select_one('.KambiBC-event-groups-list')\n",
    "    \n",
    "    # debug\n",
    "    break"
   ]
  },
  {
   "cell_type": "code",
   "execution_count": 7,
   "metadata": {},
   "outputs": [],
   "source": [
    "    # find all green buttons (with odds)\n",
    "    greenButtons = soup.select('.KambiBC-event-groups button.KambiBC-mod-outcome')\n",
    "\n",
    "    # find the <li> parent which represents one match and combine them as a set\n",
    "    matches = list(set(o.find_parent('li', class_='KambiBC-event-item') for o in greenButtons))\n",
    "\n",
    "    # extract info of all matches and store in a data frame\n",
    "    df_0 = pd.DataFrame([extractMatchInfo(m) for m in matches])\n",
    "\n",
    "    # append to main data frame\n",
    "    df = pd.concat([df, df_0])\n",
    "    \n",
    "    break"
   ]
  },
  {
   "cell_type": "code",
   "execution_count": 64,
   "metadata": {
    "scrolled": true
   },
   "outputs": [],
   "source": [
    "# find all green buttons (with odds)\n",
    "greenButtons = soup.select('.KambiBC-event-groups button.KambiBC-mod-outcome')\n",
    "\n",
    "# find the <li> parent which represents one match and combine them as a set\n",
    "matches = list(set(o.find_parent('li', class_='KambiBC-event-item') for o in greenButtons)\n",
    "\n",
    "# extract match info (team names and odds) from a <li.KambiBC-event-item>\n",
    "def extractMatchInfo(match):\n",
    "    teams = match.select('.KambiBC-event-participants__name')\n",
    "    odds = match.select('span.KambiBC-mod-outcome__odds')\n",
    "    info = {'home_team': teams[0].text,\n",
    "            'away_team': teams[1].text,\n",
    "            'odd_home_win': odds[0].text,\n",
    "            'odd_tie': odds[1].text,\n",
    "            'odd_away_win': odds[2].text\n",
    "           }\n",
    "    return info\n",
    "\n",
    "# extract info of all matches and store in a data frame\n",
    "pd.DataFrame([extractMatchInfo(m) for m in matches])"
   ]
  },
  {
   "cell_type": "markdown",
   "metadata": {},
   "source": [
    "### Data transformation"
   ]
  },
  {
   "cell_type": "code",
   "execution_count": null,
   "metadata": {
    "scrolled": true
   },
   "outputs": [],
   "source": [
    "# Change team names to lowercase\n",
    "df[\"home_team\"] = df[\"home_team\"].str.lower()\n",
    "df[\"away_team\"] = df[\"away_team\"].str.lower()\n",
    "\n",
    "# Remove all accents\n",
    "df[\"home_team\"] = df[\"home_team\"].str.normalize('NFKD').str.encode(encoding='ascii',errors='ignore').str.decode('utf-8')\n",
    "df[\"away_team\"] = df[\"away_team\"].str.normalize('NFKD').str.encode(encoding='ascii',errors='ignore').str.decode('utf-8')\n",
    "\n",
    "# Convert to numbers\n",
    "df[\"odd_home_win\"] = pd.to_numeric(df[\"odd_home_win\"])\n",
    "df[\"odd_away_win\"] = pd.to_numeric(df[\"odd_away_win\"])\n",
    "df[\"odd_tie\"] = pd.to_numeric(df[\"odd_tie\"])\n",
    "\n",
    "# Show\n",
    "df"
   ]
  },
  {
   "cell_type": "code",
   "execution_count": null,
   "metadata": {},
   "outputs": [],
   "source": [
    "# append to csv\n",
    "df.to_csv('./data/This_month_odds.csv', index=False, mode='a')"
   ]
  }
 ],
 "metadata": {
  "kernelspec": {
   "display_name": "Python 3",
   "language": "python",
   "name": "python3"
  },
  "language_info": {
   "codemirror_mode": {
    "name": "ipython",
    "version": 3
   },
   "file_extension": ".py",
   "mimetype": "text/x-python",
   "name": "python",
   "nbconvert_exporter": "python",
   "pygments_lexer": "ipython3",
   "version": "3.7.0"
  }
 },
 "nbformat": 4,
 "nbformat_minor": 2
}
