{
 "cells": [
  {
   "cell_type": "markdown",
   "metadata": {},
   "source": [
    "# Build history\n",
    "Scrape all my bets, including profits, from the HTML page I've saved."
   ]
  },
  {
   "cell_type": "code",
   "execution_count": 17,
   "metadata": {},
   "outputs": [],
   "source": [
    "import pandas as pd\n",
    "from bs4 import BeautifulSoup\n",
    "from datetime import datetime"
   ]
  },
  {
   "cell_type": "code",
   "execution_count": 3,
   "metadata": {},
   "outputs": [],
   "source": [
    "# open the html file and load into soup\n",
    "f = open('./Unibet_results_to_20_nov_2018.htm')\n",
    "soup = BeautifulSoup(f, 'lxml')\n",
    "f.close()"
   ]
  },
  {
   "cell_type": "code",
   "execution_count": 7,
   "metadata": {},
   "outputs": [],
   "source": [
    "coupons = soup.select('.KambiBC-my-bets-summary__coupons-list .KambiBC-my-bets-summary__coupon')"
   ]
  },
  {
   "cell_type": "code",
   "execution_count": 8,
   "metadata": {},
   "outputs": [
    {
     "data": {
      "text/plain": [
       "216"
      ]
     },
     "execution_count": 8,
     "metadata": {},
     "output_type": "execute_result"
    }
   ],
   "source": [
    "len(coupons)"
   ]
  },
  {
   "cell_type": "code",
   "execution_count": 11,
   "metadata": {
    "scrolled": true
   },
   "outputs": [
    {
     "name": "stdout",
     "output_type": "stream",
     "text": [
      "<div class=\"KambiBC-my-bets-summary__coupon\">\n",
      " <div class=\"KambiBC-my-bets-summary__coupon-top\">\n",
      "  <div class=\"KambiBC-my-bets-summary__coupon-top-left\">\n",
      "   <span class=\"KambiBC-my-bets-summary__coupon-date\">\n",
      "    5 Nov 2018, 20:05:58\n",
      "   </span>\n",
      "  </div>\n",
      "  <div class=\"KambiBC-my-bets-summary__coupon-top-right\">\n",
      "   <span class=\"KambiBC-my-bets-summary__coupon-status KambiBC-my-bets-summary__coupon-status--pending\">\n",
      "    Open\n",
      "   </span>\n",
      "  </div>\n",
      " </div>\n",
      " <div class=\"KambiBC-my-bets-summary__coupon-bottom\">\n",
      "  <div class=\"KambiBC-my-bets-summary__coupon-bottom-left\">\n",
      "   <div class=\"KambiBC-my-bets-summary__field-columns\">\n",
      "    <div class=\"KambiBC-my-bets-summary__field KambiBC-my-bets-summary__field--bet-label\">\n",
      "     <span class=\"KambiBC-my-bets-summary__value\">\n",
      "      Full Time: Draw\n",
      "     </span>\n",
      "    </div>\n",
      "    <div class=\"KambiBC-my-bets-summary__field\">\n",
      "     <span class=\"KambiBC-my-bets-summary__label\">\n",
      "      Stake:\n",
      "     </span>\n",
      "     <span class=\"KambiBC-my-bets-summary__value\">\n",
      "      €5.00\n",
      "     </span>\n",
      "    </div>\n",
      "    <div class=\"KambiBC-my-bets-summary__field\">\n",
      "     <span class=\"KambiBC-my-bets-summary__label\">\n",
      "      Odds:\n",
      "     </span>\n",
      "     <span class=\"KambiBC-my-bets-summary__value\">\n",
      "      9.50\n",
      "     </span>\n",
      "    </div>\n",
      "   </div>\n",
      "  </div>\n",
      "  <div class=\"KambiBC-my-bets-summary__coupon-bottom-right\">\n",
      "   <ul class=\"KambiBC-my-bets-summary-coupon__event-list\">\n",
      "    <li>\n",
      "     <div class=\"KambiBC-my-bets-summary__field\">\n",
      "      <span class=\"KambiBC-my-bets-summary__label\">\n",
      "       Pot. Payout:\n",
      "      </span>\n",
      "      <span class=\"KambiBC-my-bets-summary__value\">\n",
      "       €47.50\n",
      "      </span>\n",
      "     </div>\n",
      "    </li>\n",
      "    <li>\n",
      "     <span class=\"KambiBC-my-bets-summary-coupon__event-list-name\">\n",
      "      Napoli - Chievo Verona\n",
      "     </span>\n",
      "    </li>\n",
      "   </ul>\n",
      "   <div class=\"KambiBC-my-bets-summary-coupon__cash-out-wrapper\">\n",
      "    <div class=\"KambiBC-react-cash-out-button KambiBC-react-cash-out-button--default\">\n",
      "     <span class=\"KambiBC-react-cash-out-button__label\">\n",
      "      Cash Out\n",
      "     </span>\n",
      "     <span class=\"KambiBC-react-cash-out-button__value\">\n",
      "      €4.77\n",
      "     </span>\n",
      "     <div class=\"KambiBC-react-cash-out-button__left\">\n",
      "     </div>\n",
      "     <div class=\"KambiBC-react-cash-out-button__right\">\n",
      "      <div class=\"KambiBC-react-cash-out-button__right-label\">\n",
      "       Cash Out\n",
      "      </div>\n",
      "     </div>\n",
      "    </div>\n",
      "   </div>\n",
      "  </div>\n",
      " </div>\n",
      "</div>\n"
     ]
    }
   ],
   "source": [
    "c = coupons[0]\n",
    "print(c.prettify())"
   ]
  },
  {
   "cell_type": "code",
   "execution_count": 20,
   "metadata": {},
   "outputs": [],
   "source": [
    "# extract date of bet\n",
    "dateOfBet = c.select_one('.KambiBC-my-bets-summary__coupon-date').text\n",
    "\n",
    "# parse as date\n",
    "dateOfBet = datetime.strptime(dateOfBet, '%d %b %Y, %H:%M:%S ').date()\n"
   ]
  },
  {
   "cell_type": "code",
   "execution_count": 42,
   "metadata": {},
   "outputs": [],
   "source": [
    "# get playing teams\n",
    "teams = c.select_one('.KambiBC-my-bets-summary-coupon__event-list-name').text\n",
    "\n",
    "# split into home and away team\n",
    "home_team, away_team = teams.split(' - ')"
   ]
  },
  {
   "cell_type": "code",
   "execution_count": 33,
   "metadata": {},
   "outputs": [
    {
     "name": "stdout",
     "output_type": "stream",
     "text": [
      "0\n",
      "0\n",
      "0\n",
      "0\n",
      "0\n",
      "0\n",
      "0\n",
      "0\n",
      "0\n",
      "0\n",
      "0\n",
      "0\n",
      "0\n",
      "0\n",
      "18.0\n",
      "0\n",
      "5.45\n",
      "17.0\n",
      "14.0\n",
      "0\n",
      "10.0\n",
      "5.58\n",
      "0\n",
      "0\n",
      "0\n",
      "0\n",
      "12.2\n",
      "0\n",
      "5.96\n",
      "12.4\n",
      "0\n",
      "0\n",
      "0\n",
      "0\n",
      "0\n",
      "0\n",
      "0\n",
      "0\n",
      "0\n",
      "0\n",
      "26.25\n",
      "0\n",
      "0\n",
      "0\n",
      "0\n",
      "18.75\n",
      "0\n",
      "0\n",
      "0\n",
      "0\n",
      "0\n",
      "0\n",
      "0\n",
      "0\n",
      "0\n",
      "0\n",
      "0\n",
      "14.7\n",
      "0\n",
      "0\n",
      "0\n",
      "20.25\n",
      "0\n",
      "0\n",
      "0\n",
      "14.4\n",
      "22.5\n",
      "0\n",
      "0\n",
      "0\n",
      "0\n",
      "9.2\n",
      "68.0\n",
      "0\n",
      "0\n",
      "0\n",
      "0\n",
      "0\n",
      "20.0\n",
      "26.0\n",
      "0\n",
      "0\n",
      "0\n",
      "0\n",
      "0\n",
      "0\n",
      "0\n",
      "10.2\n",
      "0\n",
      "40.0\n",
      "0\n",
      "0\n",
      "0\n",
      "0\n",
      "4.3\n",
      "0\n",
      "10.05\n",
      "0\n",
      "0\n",
      "0\n",
      "18.75\n",
      "0\n",
      "0\n",
      "3.99\n",
      "0\n",
      "0\n",
      "10.35\n",
      "24.0\n",
      "4.95\n",
      "0\n",
      "0\n",
      "0\n",
      "0\n",
      "0\n",
      "0\n",
      "0\n",
      "13.05\n",
      "0\n",
      "0\n",
      "3.84\n",
      "13.95\n",
      "11.55\n",
      "0\n",
      "0\n",
      "10.05\n",
      "14.7\n",
      "0\n",
      "5.31\n",
      "3.75\n",
      "0\n",
      "12.75\n",
      "0\n",
      "0\n",
      "0\n",
      "0\n",
      "0\n",
      "0\n",
      "16.25\n",
      "32.5\n",
      "0\n",
      "0\n",
      "0\n",
      "35.0\n",
      "0\n",
      "0\n",
      "0\n",
      "0\n",
      "0\n",
      "0\n",
      "16.25\n",
      "24.0\n",
      "0\n",
      "0\n",
      "0\n",
      "0\n",
      "0\n",
      "0\n",
      "0\n",
      "0\n",
      "0\n",
      "0\n",
      "42.0\n",
      "0\n",
      "0\n",
      "0\n",
      "0\n",
      "0\n",
      "14.25\n",
      "14.5\n",
      "0\n",
      "15.75\n",
      "31.25\n",
      "0\n",
      "0\n",
      "0\n",
      "29.75\n",
      "0\n",
      "0\n",
      "14.4\n",
      "0\n",
      "10.2\n",
      "5.31\n",
      "20.0\n",
      "12.2\n",
      "0\n",
      "0\n",
      "0\n",
      "0\n",
      "0\n",
      "0\n",
      "0\n",
      "0\n",
      "0\n",
      "8.0\n",
      "8.6\n",
      "0\n",
      "20.0\n",
      "0\n",
      "0\n",
      "0\n",
      "0\n",
      "24.0\n",
      "0\n",
      "10.95\n",
      "0\n",
      "0\n",
      "0\n",
      "8.7\n",
      "0\n",
      "0\n",
      "6.75\n",
      "0\n",
      "0\n",
      "0\n",
      "14.1\n",
      "0\n"
     ]
    }
   ],
   "source": [
    "# get payout\n",
    "for c in coupons:\n",
    "\n",
    "    try:\n",
    "        payout = c.select_one('.KambiBC-my-bets-summary-payout__value').text\n",
    "        # strip euro symbol from amout\n",
    "        payout = float(payout[1:])\n",
    "    except:\n",
    "        payout = 0\n",
    "        \n",
    "    print(payout)"
   ]
  },
  {
   "cell_type": "code",
   "execution_count": 46,
   "metadata": {},
   "outputs": [],
   "source": [
    "# find on what I have bet\n",
    "bet_on = c.select_one('.KambiBC-my-bets-summary__field--bet-label').text\n",
    "\n",
    "# remove \"Full Time: \"\n",
    "bet_on = re.sub('Full Time\\: ', '', bet_on)\n",
    "\n",
    "# convert to my own notation\n",
    "if bet_on == home_team:\n",
    "    bet_on = 'home_win'\n",
    "elif bet_on == away_team:\n",
    "    bet_on = 'away_win'\n",
    "elif bet_on == 'Draw':\n",
    "    bet_on = 'tie'"
   ]
  },
  {
   "cell_type": "code",
   "execution_count": 47,
   "metadata": {},
   "outputs": [
    {
     "data": {
      "text/plain": [
       "'home_win'"
      ]
     },
     "execution_count": 47,
     "metadata": {},
     "output_type": "execute_result"
    }
   ],
   "source": [
    "bet_on"
   ]
  },
  {
   "cell_type": "code",
   "execution_count": 45,
   "metadata": {},
   "outputs": [
    {
     "data": {
      "text/plain": [
       "'home_win'"
      ]
     },
     "execution_count": 45,
     "metadata": {},
     "output_type": "execute_result"
    }
   ],
   "source": [
    "# find stake\n"
   ]
  },
  {
   "cell_type": "code",
   "execution_count": 41,
   "metadata": {},
   "outputs": [
    {
     "data": {
      "text/plain": [
       "<div class=\"KambiBC-my-bets-summary__coupon\"><div class=\"KambiBC-my-bets-summary__coupon-top\"><div class=\"KambiBC-my-bets-summary__coupon-top-left\"><span class=\"KambiBC-my-bets-summary__coupon-date\">12 Dec 2017, 22:03:14 </span></div><div class=\"KambiBC-my-bets-summary__coupon-top-right\"><span class=\"KambiBC-my-bets-summary__coupon-status KambiBC-my-bets-summary__coupon-status--lost\">Lost</span></div></div><div class=\"KambiBC-my-bets-summary__coupon-bottom\"><div class=\"KambiBC-my-bets-summary__coupon-bottom-left\"><div class=\"KambiBC-my-bets-summary__field-columns\"><div class=\"KambiBC-my-bets-summary__field KambiBC-my-bets-summary__field--bet-label\"><span class=\"KambiBC-my-bets-summary__value\">Full Time: FC Groningen</span></div><div class=\"KambiBC-my-bets-summary__field\"><span class=\"KambiBC-my-bets-summary__label\">Stake: </span><span class=\"KambiBC-my-bets-summary__value\">€6.00 </span></div><div class=\"KambiBC-my-bets-summary__field\"><span class=\"KambiBC-my-bets-summary__label\">Odds: </span><span class=\"KambiBC-my-bets-summary__value\">7.00</span></div></div></div><div class=\"KambiBC-my-bets-summary__coupon-bottom-right\"><ul class=\"KambiBC-my-bets-summary-coupon__event-list\"><li></li><li><span class=\"KambiBC-my-bets-summary-coupon__event-list-name\">FC Groningen - PSV Eindhoven</span></li></ul><div class=\"KambiBC-my-bets-summary-coupon__cash-out-wrapper\"></div></div></div></div>"
      ]
     },
     "execution_count": 41,
     "metadata": {},
     "output_type": "execute_result"
    }
   ],
   "source": [
    "c"
   ]
  },
  {
   "cell_type": "code",
   "execution_count": null,
   "metadata": {},
   "outputs": [],
   "source": []
  }
 ],
 "metadata": {
  "kernelspec": {
   "display_name": "Python 3",
   "language": "python",
   "name": "python3"
  },
  "language_info": {
   "codemirror_mode": {
    "name": "ipython",
    "version": 3
   },
   "file_extension": ".py",
   "mimetype": "text/x-python",
   "name": "python",
   "nbconvert_exporter": "python",
   "pygments_lexer": "ipython3",
   "version": "3.7.0"
  }
 },
 "nbformat": 4,
 "nbformat_minor": 2
}
